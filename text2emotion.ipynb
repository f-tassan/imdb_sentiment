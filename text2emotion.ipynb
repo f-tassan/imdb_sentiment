{
 "cells": [
  {
   "cell_type": "code",
   "execution_count": 1,
   "metadata": {},
   "outputs": [
    {
     "name": "stderr",
     "output_type": "stream",
     "text": [
      "[nltk_data] Downloading package stopwords to\n",
      "[nltk_data]     C:\\Users\\admin\\AppData\\Roaming\\nltk_data...\n",
      "[nltk_data]   Package stopwords is already up-to-date!\n",
      "[nltk_data] Downloading package punkt to\n",
      "[nltk_data]     C:\\Users\\admin\\AppData\\Roaming\\nltk_data...\n",
      "[nltk_data]   Package punkt is already up-to-date!\n",
      "[nltk_data] Downloading package wordnet to\n",
      "[nltk_data]     C:\\Users\\admin\\AppData\\Roaming\\nltk_data...\n",
      "[nltk_data]   Package wordnet is already up-to-date!\n"
     ]
    }
   ],
   "source": [
    "import text2emotion as te"
   ]
  },
  {
   "cell_type": "code",
   "execution_count": 2,
   "metadata": {},
   "outputs": [
    {
     "name": "stderr",
     "output_type": "stream",
     "text": [
      "c:\\Users\\admin\\OneDrive - NEOM\\Desktop\\imdb_sentiment\\.conda\\lib\\site-packages\\text2emotion\\__init__.py:2728: SyntaxWarning: \"is\" with a literal. Did you mean \"==\"?\n",
      "  if sum(emotions.values()) is 0:\n",
      "c:\\Users\\admin\\OneDrive - NEOM\\Desktop\\imdb_sentiment\\.conda\\lib\\site-packages\\text2emotion\\__init__.py:2728: SyntaxWarning: \"is\" with a literal. Did you mean \"==\"?\n",
      "  if sum(emotions.values()) is 0:\n",
      "c:\\Users\\admin\\OneDrive - NEOM\\Desktop\\imdb_sentiment\\.conda\\lib\\site-packages\\text2emotion\\__init__.py:2728: SyntaxWarning: \"is\" with a literal. Did you mean \"==\"?\n",
      "  if sum(emotions.values()) is 0:\n",
      "c:\\Users\\admin\\OneDrive - NEOM\\Desktop\\imdb_sentiment\\.conda\\lib\\site-packages\\text2emotion\\__init__.py:2728: SyntaxWarning: \"is\" with a literal. Did you mean \"==\"?\n",
      "  if sum(emotions.values()) is 0:\n",
      "c:\\Users\\admin\\OneDrive - NEOM\\Desktop\\imdb_sentiment\\.conda\\lib\\site-packages\\text2emotion\\__init__.py:2728: SyntaxWarning: \"is\" with a literal. Did you mean \"==\"?\n",
      "  if sum(emotions.values()) is 0:\n",
      "c:\\Users\\admin\\OneDrive - NEOM\\Desktop\\imdb_sentiment\\.conda\\lib\\site-packages\\text2emotion\\__init__.py:2728: SyntaxWarning: \"is\" with a literal. Did you mean \"==\"?\n",
      "  if sum(emotions.values()) is 0:\n",
      "c:\\Users\\admin\\OneDrive - NEOM\\Desktop\\imdb_sentiment\\.conda\\lib\\site-packages\\text2emotion\\__init__.py:2728: SyntaxWarning: \"is\" with a literal. Did you mean \"==\"?\n",
      "  if sum(emotions.values()) is 0:\n",
      "c:\\Users\\admin\\OneDrive - NEOM\\Desktop\\imdb_sentiment\\.conda\\lib\\site-packages\\text2emotion\\__init__.py:2728: SyntaxWarning: \"is\" with a literal. Did you mean \"==\"?\n",
      "  if sum(emotions.values()) is 0:\n",
      "c:\\Users\\admin\\OneDrive - NEOM\\Desktop\\imdb_sentiment\\.conda\\lib\\site-packages\\text2emotion\\__init__.py:2728: SyntaxWarning: \"is\" with a literal. Did you mean \"==\"?\n",
      "  if sum(emotions.values()) is 0:\n",
      "c:\\Users\\admin\\OneDrive - NEOM\\Desktop\\imdb_sentiment\\.conda\\lib\\site-packages\\text2emotion\\__init__.py:2728: SyntaxWarning: \"is\" with a literal. Did you mean \"==\"?\n",
      "  if sum(emotions.values()) is 0:\n"
     ]
    },
    {
     "ename": "AttributeError",
     "evalue": "module 'emoji' has no attribute 'UNICODE_EMOJI'",
     "output_type": "error",
     "traceback": [
      "\u001b[1;31m---------------------------------------------------------------------------\u001b[0m",
      "\u001b[1;31mAttributeError\u001b[0m                            Traceback (most recent call last)",
      "Cell \u001b[1;32mIn[2], line 2\u001b[0m\n\u001b[0;32m      1\u001b[0m text \u001b[38;5;241m=\u001b[39m \u001b[38;5;124m\"\u001b[39m\u001b[38;5;124mI was asked to sign a third party contract a week out from stay. If it wasn\u001b[39m\u001b[38;5;124m'\u001b[39m\u001b[38;5;124mt an 8 person group that took a lot of wrangling I would have cancelled the booking straight away. Bathrooms - there are no stand alone bathrooms. Please consider this - you have to clear out the main bedroom to use that bathroom. Other option is you walk through a different bedroom to get to its en-suite. Signs all over the apartment - there are signs everywhere - some helpful - some telling you rules. Perhaps some people like this but It negatively affected our enjoyment of the accommodation. Stairs - lots of them - some had slightly bending wood which caused a minor injury.\u001b[39m\u001b[38;5;124m\"\u001b[39m\n\u001b[1;32m----> 2\u001b[0m \u001b[43mte\u001b[49m\u001b[38;5;241;43m.\u001b[39;49m\u001b[43mget_emotion\u001b[49m\u001b[43m(\u001b[49m\u001b[43mtext\u001b[49m\u001b[43m)\u001b[49m\n",
      "File \u001b[1;32mc:\\Users\\admin\\OneDrive - NEOM\\Desktop\\imdb_sentiment\\.conda\\lib\\site-packages\\text2emotion\\__init__.py:2716\u001b[0m, in \u001b[0;36mget_emotion\u001b[1;34m(input)\u001b[0m\n\u001b[0;32m   2713\u001b[0m     \u001b[38;5;66;03m# print(clean_text)\u001b[39;00m\n\u001b[0;32m   2714\u001b[0m     \u001b[38;5;28;01mreturn\u001b[39;00m clean_text\n\u001b[1;32m-> 2716\u001b[0m text \u001b[38;5;241m=\u001b[39m \u001b[43mcleaning\u001b[49m\u001b[43m(\u001b[49m\u001b[38;5;28;43minput\u001b[39;49m\u001b[43m)\u001b[49m\u001b[38;5;241m.\u001b[39msplit()\n\u001b[0;32m   2717\u001b[0m emotion_values \u001b[38;5;241m=\u001b[39m []\n\u001b[0;32m   2718\u001b[0m emotions \u001b[38;5;241m=\u001b[39m {\u001b[38;5;124m\"\u001b[39m\u001b[38;5;124mHappy\u001b[39m\u001b[38;5;124m\"\u001b[39m: \u001b[38;5;241m0\u001b[39m, \u001b[38;5;124m\"\u001b[39m\u001b[38;5;124mAngry\u001b[39m\u001b[38;5;124m\"\u001b[39m: \u001b[38;5;241m0\u001b[39m, \u001b[38;5;124m\"\u001b[39m\u001b[38;5;124mSurprise\u001b[39m\u001b[38;5;124m\"\u001b[39m: \u001b[38;5;241m0\u001b[39m, \u001b[38;5;124m\"\u001b[39m\u001b[38;5;124mSad\u001b[39m\u001b[38;5;124m\"\u001b[39m: \u001b[38;5;241m0\u001b[39m, \u001b[38;5;124m\"\u001b[39m\u001b[38;5;124mFear\u001b[39m\u001b[38;5;124m\"\u001b[39m: \u001b[38;5;241m0\u001b[39m}\n",
      "File \u001b[1;32mc:\\Users\\admin\\OneDrive - NEOM\\Desktop\\imdb_sentiment\\.conda\\lib\\site-packages\\text2emotion\\__init__.py:2700\u001b[0m, in \u001b[0;36mget_emotion.<locals>.cleaning\u001b[1;34m(text)\u001b[0m\n\u001b[0;32m   2698\u001b[0m \u001b[38;5;28;01mdef\u001b[39;00m \u001b[38;5;21mcleaning\u001b[39m(text):\n\u001b[0;32m   2699\u001b[0m     text \u001b[38;5;241m=\u001b[39m text\u001b[38;5;241m.\u001b[39mlower()\n\u001b[1;32m-> 2700\u001b[0m     text \u001b[38;5;241m=\u001b[39m \u001b[43memojis_extractor\u001b[49m\u001b[43m(\u001b[49m\u001b[43mtext\u001b[49m\u001b[43m)\u001b[49m\n\u001b[0;32m   2701\u001b[0m     text \u001b[38;5;241m=\u001b[39m re\u001b[38;5;241m.\u001b[39msub(\u001b[38;5;124mr\u001b[39m\u001b[38;5;124m'\u001b[39m\u001b[38;5;124mhttp\u001b[39m\u001b[38;5;124m\\\u001b[39m\u001b[38;5;124mS+|www.\u001b[39m\u001b[38;5;124m\\\u001b[39m\u001b[38;5;124mS+\u001b[39m\u001b[38;5;124m'\u001b[39m, \u001b[38;5;124m'\u001b[39m\u001b[38;5;124m'\u001b[39m, text)\n\u001b[0;32m   2702\u001b[0m     text \u001b[38;5;241m=\u001b[39m removing_contradictions(text)\n",
      "File \u001b[1;32mc:\\Users\\admin\\OneDrive - NEOM\\Desktop\\imdb_sentiment\\.conda\\lib\\site-packages\\text2emotion\\__init__.py:2569\u001b[0m, in \u001b[0;36mget_emotion.<locals>.emojis_extractor\u001b[1;34m(text)\u001b[0m\n\u001b[0;32m   2078\u001b[0m \u001b[38;5;28;01mdef\u001b[39;00m \u001b[38;5;21memojis_extractor\u001b[39m(text):\n\u001b[0;32m   2079\u001b[0m     emoj \u001b[38;5;241m=\u001b[39m {\u001b[38;5;124m'\u001b[39m\u001b[38;5;124mEmoji\u001b[39m\u001b[38;5;124m'\u001b[39m: [\u001b[38;5;124m'\u001b[39m\u001b[38;5;124m👏 🏾\u001b[39m\u001b[38;5;124m'\u001b[39m,\n\u001b[0;32m   2080\u001b[0m                       \u001b[38;5;124m'\u001b[39m\u001b[38;5;124m👏 🏼\u001b[39m\u001b[38;5;124m'\u001b[39m,\n\u001b[0;32m   2081\u001b[0m                       \u001b[38;5;124m'\u001b[39m\u001b[38;5;124m👏 🏽\u001b[39m\u001b[38;5;124m'\u001b[39m,\n\u001b[1;32m   (...)\u001b[0m\n\u001b[0;32m   2567\u001b[0m                         \u001b[38;5;124m'\u001b[39m\u001b[38;5;124mFear\u001b[39m\u001b[38;5;124m'\u001b[39m,\n\u001b[0;32m   2568\u001b[0m                         \u001b[38;5;124m'\u001b[39m\u001b[38;5;124mFear\u001b[39m\u001b[38;5;124m'\u001b[39m]}\n\u001b[1;32m-> 2569\u001b[0m     a \u001b[38;5;241m=\u001b[39m \u001b[38;5;124;43m\"\u001b[39;49m\u001b[38;5;124;43m \u001b[39;49m\u001b[38;5;124;43m\"\u001b[39;49m\u001b[38;5;241;43m.\u001b[39;49m\u001b[43mjoin\u001b[49m\u001b[43m(\u001b[49m\u001b[43mc\u001b[49m\u001b[43m \u001b[49m\u001b[38;5;28;43;01mfor\u001b[39;49;00m\u001b[43m \u001b[49m\u001b[43mc\u001b[49m\u001b[43m \u001b[49m\u001b[38;5;129;43;01min\u001b[39;49;00m\u001b[43m \u001b[49m\u001b[43mtext\u001b[49m\u001b[43m \u001b[49m\u001b[38;5;28;43;01mif\u001b[39;49;00m\u001b[43m \u001b[49m\u001b[43mc\u001b[49m\u001b[43m \u001b[49m\u001b[38;5;129;43;01min\u001b[39;49;00m\u001b[43m \u001b[49m\u001b[43memoji\u001b[49m\u001b[38;5;241;43m.\u001b[39;49m\u001b[43mUNICODE_EMOJI\u001b[49m\u001b[43m)\u001b[49m\u001b[38;5;241m.\u001b[39msplit()\n\u001b[0;32m   2570\u001b[0m     \u001b[38;5;28;01mfor\u001b[39;00m i \u001b[38;5;129;01min\u001b[39;00m a:\n\u001b[0;32m   2571\u001b[0m         \u001b[38;5;28;01mtry\u001b[39;00m:\n",
      "File \u001b[1;32mc:\\Users\\admin\\OneDrive - NEOM\\Desktop\\imdb_sentiment\\.conda\\lib\\site-packages\\text2emotion\\__init__.py:2569\u001b[0m, in \u001b[0;36m<genexpr>\u001b[1;34m(.0)\u001b[0m\n\u001b[0;32m   2078\u001b[0m \u001b[38;5;28;01mdef\u001b[39;00m \u001b[38;5;21memojis_extractor\u001b[39m(text):\n\u001b[0;32m   2079\u001b[0m     emoj \u001b[38;5;241m=\u001b[39m {\u001b[38;5;124m'\u001b[39m\u001b[38;5;124mEmoji\u001b[39m\u001b[38;5;124m'\u001b[39m: [\u001b[38;5;124m'\u001b[39m\u001b[38;5;124m👏 🏾\u001b[39m\u001b[38;5;124m'\u001b[39m,\n\u001b[0;32m   2080\u001b[0m                       \u001b[38;5;124m'\u001b[39m\u001b[38;5;124m👏 🏼\u001b[39m\u001b[38;5;124m'\u001b[39m,\n\u001b[0;32m   2081\u001b[0m                       \u001b[38;5;124m'\u001b[39m\u001b[38;5;124m👏 🏽\u001b[39m\u001b[38;5;124m'\u001b[39m,\n\u001b[1;32m   (...)\u001b[0m\n\u001b[0;32m   2567\u001b[0m                         \u001b[38;5;124m'\u001b[39m\u001b[38;5;124mFear\u001b[39m\u001b[38;5;124m'\u001b[39m,\n\u001b[0;32m   2568\u001b[0m                         \u001b[38;5;124m'\u001b[39m\u001b[38;5;124mFear\u001b[39m\u001b[38;5;124m'\u001b[39m]}\n\u001b[1;32m-> 2569\u001b[0m     a \u001b[38;5;241m=\u001b[39m \u001b[38;5;124m\"\u001b[39m\u001b[38;5;124m \u001b[39m\u001b[38;5;124m\"\u001b[39m\u001b[38;5;241m.\u001b[39mjoin(c \u001b[38;5;28;01mfor\u001b[39;00m c \u001b[38;5;129;01min\u001b[39;00m text \u001b[38;5;28;01mif\u001b[39;00m c \u001b[38;5;129;01min\u001b[39;00m \u001b[43memoji\u001b[49m\u001b[38;5;241;43m.\u001b[39;49m\u001b[43mUNICODE_EMOJI\u001b[49m)\u001b[38;5;241m.\u001b[39msplit()\n\u001b[0;32m   2570\u001b[0m     \u001b[38;5;28;01mfor\u001b[39;00m i \u001b[38;5;129;01min\u001b[39;00m a:\n\u001b[0;32m   2571\u001b[0m         \u001b[38;5;28;01mtry\u001b[39;00m:\n",
      "\u001b[1;31mAttributeError\u001b[0m: module 'emoji' has no attribute 'UNICODE_EMOJI'"
     ]
    }
   ],
   "source": [
    "text = \"I was asked to sign a third party contract a week out from stay. If it wasn't an 8 person group that took a lot of wrangling I would have cancelled the booking straight away. Bathrooms - there are no stand alone bathrooms. Please consider this - you have to clear out the main bedroom to use that bathroom. Other option is you walk through a different bedroom to get to its en-suite. Signs all over the apartment - there are signs everywhere - some helpful - some telling you rules. Perhaps some people like this but It negatively affected our enjoyment of the accommodation. Stairs - lots of them - some had slightly bending wood which caused a minor injury.\"\n",
    "te.get_emotion(text)"
   ]
  },
  {
   "cell_type": "code",
   "execution_count": null,
   "metadata": {},
   "outputs": [
    {
     "ename": "KeyError",
     "evalue": "'text_split_text'",
     "output_type": "error",
     "traceback": [
      "\u001b[1;31m---------------------------------------------------------------------------\u001b[0m",
      "\u001b[1;31mKeyError\u001b[0m                                  Traceback (most recent call last)",
      "File \u001b[1;32mc:\\Users\\admin\\OneDrive - NEOM\\Desktop\\imdb_sentiment\\.conda\\lib\\site-packages\\pandas\\core\\indexes\\base.py:3805\u001b[0m, in \u001b[0;36mIndex.get_loc\u001b[1;34m(self, key)\u001b[0m\n\u001b[0;32m   3804\u001b[0m \u001b[38;5;28;01mtry\u001b[39;00m:\n\u001b[1;32m-> 3805\u001b[0m     \u001b[38;5;28;01mreturn\u001b[39;00m \u001b[38;5;28;43mself\u001b[39;49m\u001b[38;5;241;43m.\u001b[39;49m\u001b[43m_engine\u001b[49m\u001b[38;5;241;43m.\u001b[39;49m\u001b[43mget_loc\u001b[49m\u001b[43m(\u001b[49m\u001b[43mcasted_key\u001b[49m\u001b[43m)\u001b[49m\n\u001b[0;32m   3806\u001b[0m \u001b[38;5;28;01mexcept\u001b[39;00m \u001b[38;5;167;01mKeyError\u001b[39;00m \u001b[38;5;28;01mas\u001b[39;00m err:\n",
      "File \u001b[1;32mindex.pyx:167\u001b[0m, in \u001b[0;36mpandas._libs.index.IndexEngine.get_loc\u001b[1;34m()\u001b[0m\n",
      "File \u001b[1;32mindex.pyx:196\u001b[0m, in \u001b[0;36mpandas._libs.index.IndexEngine.get_loc\u001b[1;34m()\u001b[0m\n",
      "File \u001b[1;32mpandas\\\\_libs\\\\hashtable_class_helper.pxi:7081\u001b[0m, in \u001b[0;36mpandas._libs.hashtable.PyObjectHashTable.get_item\u001b[1;34m()\u001b[0m\n",
      "File \u001b[1;32mpandas\\\\_libs\\\\hashtable_class_helper.pxi:7089\u001b[0m, in \u001b[0;36mpandas._libs.hashtable.PyObjectHashTable.get_item\u001b[1;34m()\u001b[0m\n",
      "\u001b[1;31mKeyError\u001b[0m: 'text_split_text'",
      "\nThe above exception was the direct cause of the following exception:\n",
      "\u001b[1;31mKeyError\u001b[0m                                  Traceback (most recent call last)",
      "Cell \u001b[1;32mIn[3], line 7\u001b[0m\n\u001b[0;32m      4\u001b[0m df \u001b[38;5;241m=\u001b[39m pd\u001b[38;5;241m.\u001b[39mread_csv(\u001b[38;5;124m'\u001b[39m\u001b[38;5;124minput\u001b[39m\u001b[38;5;124m\\\u001b[39m\u001b[38;5;124mdocument-nlp.csv\u001b[39m\u001b[38;5;124m'\u001b[39m) \u001b[38;5;66;03m# change the filename to your .csv file name and location\u001b[39;00m\n\u001b[0;32m      6\u001b[0m \u001b[38;5;28;01mfor\u001b[39;00m index, row \u001b[38;5;129;01min\u001b[39;00m df\u001b[38;5;241m.\u001b[39miterrows():\n\u001b[1;32m----> 7\u001b[0m     text \u001b[38;5;241m=\u001b[39m \u001b[43mrow\u001b[49m\u001b[43m[\u001b[49m\u001b[38;5;124;43m'\u001b[39;49m\u001b[38;5;124;43mtext_split_text\u001b[39;49m\u001b[38;5;124;43m'\u001b[39;49m\u001b[43m]\u001b[49m\n\u001b[0;32m      8\u001b[0m     emotion \u001b[38;5;241m=\u001b[39m te\u001b[38;5;241m.\u001b[39mget_emotion(text)\n\u001b[0;32m     10\u001b[0m     \u001b[38;5;66;03m# print the text and emotion\u001b[39;00m\n",
      "File \u001b[1;32mc:\\Users\\admin\\OneDrive - NEOM\\Desktop\\imdb_sentiment\\.conda\\lib\\site-packages\\pandas\\core\\series.py:1121\u001b[0m, in \u001b[0;36mSeries.__getitem__\u001b[1;34m(self, key)\u001b[0m\n\u001b[0;32m   1118\u001b[0m     \u001b[38;5;28;01mreturn\u001b[39;00m \u001b[38;5;28mself\u001b[39m\u001b[38;5;241m.\u001b[39m_values[key]\n\u001b[0;32m   1120\u001b[0m \u001b[38;5;28;01melif\u001b[39;00m key_is_scalar:\n\u001b[1;32m-> 1121\u001b[0m     \u001b[38;5;28;01mreturn\u001b[39;00m \u001b[38;5;28;43mself\u001b[39;49m\u001b[38;5;241;43m.\u001b[39;49m\u001b[43m_get_value\u001b[49m\u001b[43m(\u001b[49m\u001b[43mkey\u001b[49m\u001b[43m)\u001b[49m\n\u001b[0;32m   1123\u001b[0m \u001b[38;5;66;03m# Convert generator to list before going through hashable part\u001b[39;00m\n\u001b[0;32m   1124\u001b[0m \u001b[38;5;66;03m# (We will iterate through the generator there to check for slices)\u001b[39;00m\n\u001b[0;32m   1125\u001b[0m \u001b[38;5;28;01mif\u001b[39;00m is_iterator(key):\n",
      "File \u001b[1;32mc:\\Users\\admin\\OneDrive - NEOM\\Desktop\\imdb_sentiment\\.conda\\lib\\site-packages\\pandas\\core\\series.py:1237\u001b[0m, in \u001b[0;36mSeries._get_value\u001b[1;34m(self, label, takeable)\u001b[0m\n\u001b[0;32m   1234\u001b[0m     \u001b[38;5;28;01mreturn\u001b[39;00m \u001b[38;5;28mself\u001b[39m\u001b[38;5;241m.\u001b[39m_values[label]\n\u001b[0;32m   1236\u001b[0m \u001b[38;5;66;03m# Similar to Index.get_value, but we do not fall back to positional\u001b[39;00m\n\u001b[1;32m-> 1237\u001b[0m loc \u001b[38;5;241m=\u001b[39m \u001b[38;5;28;43mself\u001b[39;49m\u001b[38;5;241;43m.\u001b[39;49m\u001b[43mindex\u001b[49m\u001b[38;5;241;43m.\u001b[39;49m\u001b[43mget_loc\u001b[49m\u001b[43m(\u001b[49m\u001b[43mlabel\u001b[49m\u001b[43m)\u001b[49m\n\u001b[0;32m   1239\u001b[0m \u001b[38;5;28;01mif\u001b[39;00m is_integer(loc):\n\u001b[0;32m   1240\u001b[0m     \u001b[38;5;28;01mreturn\u001b[39;00m \u001b[38;5;28mself\u001b[39m\u001b[38;5;241m.\u001b[39m_values[loc]\n",
      "File \u001b[1;32mc:\\Users\\admin\\OneDrive - NEOM\\Desktop\\imdb_sentiment\\.conda\\lib\\site-packages\\pandas\\core\\indexes\\base.py:3812\u001b[0m, in \u001b[0;36mIndex.get_loc\u001b[1;34m(self, key)\u001b[0m\n\u001b[0;32m   3807\u001b[0m     \u001b[38;5;28;01mif\u001b[39;00m \u001b[38;5;28misinstance\u001b[39m(casted_key, \u001b[38;5;28mslice\u001b[39m) \u001b[38;5;129;01mor\u001b[39;00m (\n\u001b[0;32m   3808\u001b[0m         \u001b[38;5;28misinstance\u001b[39m(casted_key, abc\u001b[38;5;241m.\u001b[39mIterable)\n\u001b[0;32m   3809\u001b[0m         \u001b[38;5;129;01mand\u001b[39;00m \u001b[38;5;28many\u001b[39m(\u001b[38;5;28misinstance\u001b[39m(x, \u001b[38;5;28mslice\u001b[39m) \u001b[38;5;28;01mfor\u001b[39;00m x \u001b[38;5;129;01min\u001b[39;00m casted_key)\n\u001b[0;32m   3810\u001b[0m     ):\n\u001b[0;32m   3811\u001b[0m         \u001b[38;5;28;01mraise\u001b[39;00m InvalidIndexError(key)\n\u001b[1;32m-> 3812\u001b[0m     \u001b[38;5;28;01mraise\u001b[39;00m \u001b[38;5;167;01mKeyError\u001b[39;00m(key) \u001b[38;5;28;01mfrom\u001b[39;00m \u001b[38;5;21;01merr\u001b[39;00m\n\u001b[0;32m   3813\u001b[0m \u001b[38;5;28;01mexcept\u001b[39;00m \u001b[38;5;167;01mTypeError\u001b[39;00m:\n\u001b[0;32m   3814\u001b[0m     \u001b[38;5;66;03m# If we have a listlike key, _check_indexing_error will raise\u001b[39;00m\n\u001b[0;32m   3815\u001b[0m     \u001b[38;5;66;03m#  InvalidIndexError. Otherwise we fall through and re-raise\u001b[39;00m\n\u001b[0;32m   3816\u001b[0m     \u001b[38;5;66;03m#  the TypeError.\u001b[39;00m\n\u001b[0;32m   3817\u001b[0m     \u001b[38;5;28mself\u001b[39m\u001b[38;5;241m.\u001b[39m_check_indexing_error(key)\n",
      "\u001b[1;31mKeyError\u001b[0m: 'text_split_text'"
     ]
    }
   ],
   "source": [
    "# apply the sentiment analysis to the hotel review dataset\n",
    "import pandas as pd\n",
    "\n",
    "df = pd.read_csv('input\\document-nlp.csv') # change the filename to your .csv file name and location\n",
    "\n",
    "for index, row in df.iterrows():\n",
    "    text = row['text_split_text']\n",
    "    emotion = te.get_emotion(text)\n",
    "    \n",
    "    # print the text and emotion\n",
    "    print(\"{:-<65} {}\".format(text, emotion))\n",
    "    print(\"Compound Score:\", emotion)\n",
    "    print()"
   ]
  }
 ],
 "metadata": {
  "kernelspec": {
   "display_name": "Python 3",
   "language": "python",
   "name": "python3"
  },
  "language_info": {
   "codemirror_mode": {
    "name": "ipython",
    "version": 3
   },
   "file_extension": ".py",
   "mimetype": "text/x-python",
   "name": "python",
   "nbconvert_exporter": "python",
   "pygments_lexer": "ipython3",
   "version": "3.10.13"
  }
 },
 "nbformat": 4,
 "nbformat_minor": 2
}
