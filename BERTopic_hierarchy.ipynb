{
 "cells": [
  {
   "cell_type": "code",
   "execution_count": 1,
   "metadata": {},
   "outputs": [
    {
     "name": "stderr",
     "output_type": "stream",
     "text": [
      "c:\\Users\\admin\\OneDrive - NEOM\\Desktop\\imdb_sentiment\\.conda\\lib\\site-packages\\tqdm\\auto.py:21: TqdmWarning: IProgress not found. Please update jupyter and ipywidgets. See https://ipywidgets.readthedocs.io/en/stable/user_install.html\n",
      "  from .autonotebook import tqdm as notebook_tqdm\n"
     ]
    }
   ],
   "source": [
    "# import libraries\n",
    "# import transforms\n",
    "# from transforms.api import Input, Output, transform\n",
    "from bertopic import BERTopic\n",
    "import numpy as np\n",
    "import pandas as pd\n",
    "from umap import UMAP\n",
    "from hdbscan import HDBSCAN\n",
    "import ast\n",
    "# from pyspark.sql.types import StructType, StructField, IntegerType, ArrayType, StringType, DoubleType, FloatType\n",
    "from sklearn.feature_extraction.text import CountVectorizer\n",
    "from bertopic.representation import KeyBERTInspired, MaximalMarginalRelevance, PartOfSpeech\n",
    "import spacy\n",
    "from bertopic.vectorizers import ClassTfidfTransformer\n",
    "# import en_core_web_sm\n",
    "from sentence_transformers import SentenceTransformer\n",
    "# from transforms.external.systems import use_external_systems, EgressPolicy, Credential, ExportControl\n",
    "from vaderSentiment.vaderSentiment import SentimentIntensityAnalyzer"
   ]
  },
  {
   "cell_type": "code",
   "execution_count": 2,
   "metadata": {},
   "outputs": [
    {
     "name": "stderr",
     "output_type": "stream",
     "text": [
      "2024-08-22 15:44:31,122 - BERTopic - Dimensionality - Fitting the dimensionality reduction algorithm\n",
      "2024-08-22 15:45:06,514 - BERTopic - Dimensionality - Completed ✓\n",
      "2024-08-22 15:45:06,515 - BERTopic - Cluster - Start clustering the reduced embeddings\n",
      "2024-08-22 15:45:06,989 - BERTopic - Cluster - Completed ✓\n",
      "2024-08-22 15:45:06,993 - BERTopic - Representation - Extracting topics from clusters using representation models.\n",
      "2024-08-22 15:45:28,594 - BERTopic - Representation - Completed ✓\n"
     ]
    }
   ],
   "source": [
    "def getSentimentGroup(compound):\n",
    "    if 0.66 <= compound < 1:\n",
    "        return 'Very Good'\n",
    "    elif 0.33 <= compound < 0.66:\n",
    "        return 'Good'\n",
    "    elif 0 <= compound < 0.33:\n",
    "        return 'Neutral Postive'\n",
    "    elif -0.33 <= compound < 0:\n",
    "        return 'Neutral Negative'\n",
    "    elif -0.66 <= compound < -0.33:\n",
    "        return 'Bad'\n",
    "    elif -1 <= compound < -0.66:\n",
    "        return 'Very Bad'\n",
    "       \n",
    " \n",
    "def getSentimentDict(sentence):\n",
    "    analyzer = SentimentIntensityAnalyzer()\n",
    "    score = analyzer.polarity_scores(sentence)\n",
    "    compound = score #score['compound']\n",
    "    return compound\n",
    "\n",
    "\n",
    "# params\n",
    "# params = params.dataframe()\n",
    "# params = params.collect()[0][:-1]\n",
    "# [n_neighbors, _, min_cluster_size, _, _] = params\n",
    "# n_neighbors = 15\n",
    "# min_cluster_size = 15\n",
    "\n",
    "n_neighbors=15\n",
    "min_topic_size=15\n",
    "min_cluster_size=15\n",
    "top_n_words=10\n",
    "diversity = 0.9\n",
    "\n",
    "# umap model\n",
    "umap_model = UMAP(n_neighbors=n_neighbors, n_components=5, min_dist=0, metric='cosine', random_state=42)\n",
    "\n",
    "# clustering\n",
    "hdbscan_model = HDBSCAN(min_cluster_size=min_cluster_size, metric='euclidean', cluster_selection_method='eom', prediction_data=True)\n",
    "vectorizer_model = CountVectorizer(stop_words=\"english\", min_df=2, ngram_range=(1, 2))\n",
    "# representation model\n",
    "keybert_model = KeyBERTInspired()\n",
    "mmr_model = MaximalMarginalRelevance(diversity)\n",
    "\n",
    "nlp = spacy.load(\"en_core_web_sm\") #inshallah\n",
    "pos = PartOfSpeech(top_n_words=top_n_words)\n",
    "\n",
    "ctfidf_model = ClassTfidfTransformer(reduce_frequent_words=True)\n",
    "# All representation models\n",
    "representation_model = {\n",
    "    \"KeyBERT\": keybert_model,\n",
    "    \"MMR\": mmr_model,\n",
    "    \"pos\": pos\n",
    "}\n",
    "\n",
    "#Train the model\n",
    "# model = BERTopic(\n",
    "#   # Pipeline models\n",
    "#   embedding_model = embedding_model,\n",
    "#   umap_model=umap_model,\n",
    "#   hdbscan_model=hdbscan_model,\n",
    "#   vectorizer_model=vectorizer_model,\n",
    "#   representation_model=representation_model,\n",
    "#   # Hyperparameters\n",
    "#   top_n_words = top_n_words,\n",
    "#   min_topic_size = min_topic_size,\n",
    "#   #nr_topics=75,\n",
    "#   ctfidf_model=ctfidf_model,\n",
    "#   verbose=True\n",
    "# )\n",
    "\n",
    "\n",
    "embedding_model = SentenceTransformer('all-MiniLM-L6-v2',device=\"cpu\")\n",
    "\n",
    "model = BERTopic(\n",
    "    verbose=True,\n",
    "    umap_model=umap_model,\n",
    "    hdbscan_model=hdbscan_model,\n",
    "    representation_model= representation_model,\n",
    "    embedding_model = embedding_model\n",
    ")\n",
    "\n",
    "\n",
    "# source_df = source_df.dataframe()\n",
    "# # source_df = source_df.limit(2000)\n",
    "# df = source_df.toPandas()\n",
    "\n",
    "df = pd.read_csv('input/sentence_embedded.csv') # change the filename to your .csv file name and location\n",
    "\n",
    "df = df.dropna(subset=['embedding'])\n",
    "\n",
    "df['embedding'] = df['embedding'].apply(lambda x: ast.literal_eval(x))\n",
    "\n",
    "docs = df.text.to_list()\n",
    "embeddings = np.array(df['embedding'].apply(lambda x: np.array(x).astype(np.float32)).to_list())\n",
    "# embeddings = np.array(df['embedding'].apply(lambda x: np.array(x, dtype=np.float32)).to_list())\n",
    "topics, probs = model.fit_transform(docs, embeddings)\n",
    "df[\"topic\"] = topics\n",
    "df[\"probability\"] = probs\n",
    "\n",
    "# get sentiment\n",
    "df['sentiment_analysis'] = df['text'].apply(lambda x: getSentimentDict(x))\n",
    "df['sentiment_compound'] = df['sentiment_analysis'].apply(lambda x: x['compound'])\n",
    "df['sentiment'] = df['sentiment_compound'].apply(lambda x: getSentimentGroup(x)) # Good Bad"
   ]
  },
  {
   "cell_type": "code",
   "execution_count": 3,
   "metadata": {},
   "outputs": [
    {
     "name": "stderr",
     "output_type": "stream",
     "text": [
      "100%|██████████| 105/105 [00:00<00:00, 222.69it/s]\n",
      "100%|██████████| 105/105 [00:00<00:00, 207.47it/s]\n"
     ]
    },
    {
     "data": {
      "application/vnd.plotly.v1+json": {
       "config": {
        "plotlyServerURL": "https://plot.ly"
       },
       "data": [
        {
         "hoverinfo": "text",
         "marker": {
          "color": "rgb(61,153,112)"
         },
         "mode": "lines",
         "text": [
          "reservations_mentions_reservation_any_concierge",
          "",
          "",
          "concierge_helpful_suggestions_reservations_us"
         ],
         "type": "scatter",
         "x": [
          0,
          0.6866605902885566,
          0.6866605902885566,
          0
         ],
         "xaxis": "x",
         "y": [
          -5,
          -5,
          -15,
          -15
         ],
         "yaxis": "y"
        },
        {
         "hoverinfo": "text",
         "marker": {
          "color": "rgb(255,65,54)"
         },
         "mode": "lines",
         "text": [
          "staff_hotel_friendly_helpful_guest",
          "",
          "",
          "staff_friendly_helpful_very_professional"
         ],
         "type": "scatter",
         "x": [
          0,
          0.29549246974143795,
          0.29549246974143795,
          0
         ],
         "xaxis": "x",
         "y": [
          -25,
          -25,
          -35,
          -35
         ],
         "yaxis": "y"
        },
        {
         "hoverinfo": "text",
         "marker": {
          "color": "rgb(255,65,54)"
         },
         "mode": "lines",
         "text": [
          "welcoming_smiling_smile_greeted_friendly",
          "",
          "",
          "name_names_by_knew_everyone"
         ],
         "type": "scatter",
         "x": [
          0,
          0.7864557782438584,
          0.7864557782438584,
          0
         ],
         "xaxis": "x",
         "y": [
          -45,
          -45,
          -55,
          -55
         ],
         "yaxis": "y"
        },
        {
         "hoverinfo": "text",
         "marker": {
          "color": "rgb(255,65,54)"
         },
         "mode": "lines",
         "text": [
          "staff_friendly_helpful_very_professional",
          "",
          "",
          "name_names_by_knew_everyone"
         ],
         "type": "scatter",
         "x": [
          0.29549246974143795,
          0.9255838460694253,
          0.9255838460694253,
          0.7864557782438584
         ],
         "xaxis": "x",
         "y": [
          -30,
          -30,
          -50,
          -50
         ],
         "yaxis": "y"
        },
        {
         "hoverinfo": "text",
         "marker": {
          "color": "rgb(0,116,217)"
         },
         "mode": "lines",
         "text": [
          "concierge_reservations_helpful_suggestions_us",
          "",
          "",
          "name_names_by_knew_everyone"
         ],
         "type": "scatter",
         "x": [
          0.6866605902885566,
          1.086212436964618,
          1.086212436964618,
          0.9255838460694253
         ],
         "xaxis": "x",
         "y": [
          -10,
          -10,
          -40,
          -40
         ],
         "yaxis": "y"
        },
        {
         "hoverinfo": "text",
         "marker": {
          "color": "rgb(35,205,205)"
         },
         "mode": "lines",
         "text": [
          "desk_front_helpful_professional_staff",
          "",
          "",
          "desk_front_told_said_agent"
         ],
         "type": "scatter",
         "x": [
          0,
          0.42561834581481073,
          0.42561834581481073,
          0
         ],
         "xaxis": "x",
         "y": [
          -75,
          -75,
          -85,
          -85
         ],
         "yaxis": "y"
        },
        {
         "hoverinfo": "text",
         "marker": {
          "color": "rgb(35,205,205)"
         },
         "mode": "lines",
         "text": [
          "valet_desk_front_staff_everyone",
          "",
          "",
          "desk_front_helpful_staff_professional"
         ],
         "type": "scatter",
         "x": [
          0,
          0.6191694671294543,
          0.6191694671294543,
          0.42561834581481073
         ],
         "xaxis": "x",
         "y": [
          -65,
          -65,
          -80,
          -80
         ],
         "yaxis": "y"
        },
        {
         "hoverinfo": "text",
         "marker": {
          "color": "rgb(0,116,217)"
         },
         "mode": "lines",
         "text": [
          "valet_desk_front_staff_everyone",
          "",
          "",
          "desk_front_staff_helpful_valet"
         ],
         "type": "scatter",
         "x": [
          1.086212436964618,
          1.1457308685613836,
          1.1457308685613836,
          0.6191694671294543
         ],
         "xaxis": "x",
         "y": [
          -25,
          -25,
          -72.5,
          -72.5
         ],
         "yaxis": "y"
        },
        {
         "hoverinfo": "text",
         "marker": {
          "color": "rgb(133,20,75)"
         },
         "mode": "lines",
         "text": [
          "check_fast_quick_efficient_smooth",
          "",
          "",
          "early_ready_check_call_room"
         ],
         "type": "scatter",
         "x": [
          0,
          0.7270444633752563,
          0.7270444633752563,
          0
         ],
         "xaxis": "x",
         "y": [
          -95,
          -95,
          -105,
          -105
         ],
         "yaxis": "y"
        },
        {
         "hoverinfo": "text",
         "marker": {
          "color": "rgb(133,20,75)"
         },
         "mode": "lines",
         "text": [
          "called_reservation_incident_did_that",
          "",
          "",
          "bill_fixed_phone_me_issue"
         ],
         "type": "scatter",
         "x": [
          0,
          0.6904941526063019,
          0.6904941526063019,
          0
         ],
         "xaxis": "x",
         "y": [
          -125,
          -125,
          -135,
          -135
         ],
         "yaxis": "y"
        },
        {
         "hoverinfo": "text",
         "marker": {
          "color": "rgb(133,20,75)"
         },
         "mode": "lines",
         "text": [
          "bags_bellman_car_valet_luggage",
          "",
          "",
          "bill_called_me_call_fixed"
         ],
         "type": "scatter",
         "x": [
          0,
          0.7802228850878111,
          0.7802228850878111,
          0.6904941526063019
         ],
         "xaxis": "x",
         "y": [
          -115,
          -115,
          -130,
          -130
         ],
         "yaxis": "y"
        },
        {
         "hoverinfo": "text",
         "marker": {
          "color": "rgb(133,20,75)"
         },
         "mode": "lines",
         "text": [
          "check_early_ready_fast_call",
          "",
          "",
          "bill_called_me_call_fixed"
         ],
         "type": "scatter",
         "x": [
          0.7270444633752563,
          0.9155419064530164,
          0.9155419064530164,
          0.7802228850878111
         ],
         "xaxis": "x",
         "y": [
          -100,
          -100,
          -122.5,
          -122.5
         ],
         "yaxis": "y"
        },
        {
         "hoverinfo": "text",
         "marker": {
          "color": "rgb(133,20,75)"
         },
         "mode": "lines",
         "text": [
          "cribs_stuffed_toy_her_crib",
          "",
          "",
          "she_standing_health_her_asked"
         ],
         "type": "scatter",
         "x": [
          0,
          0.8309533950310266,
          0.8309533950310266,
          0
         ],
         "xaxis": "x",
         "y": [
          -145,
          -145,
          -155,
          -155
         ],
         "yaxis": "y"
        },
        {
         "hoverinfo": "text",
         "marker": {
          "color": "rgb(133,20,75)"
         },
         "mode": "lines",
         "text": [
          "check_bags_bill_call_our",
          "",
          "",
          "she_standing_health_her_asked"
         ],
         "type": "scatter",
         "x": [
          0.9155419064530164,
          0.9585154615139905,
          0.9585154615139905,
          0.8309533950310266
         ],
         "xaxis": "x",
         "y": [
          -111.25,
          -111.25,
          -150,
          -150
         ],
         "yaxis": "y"
        },
        {
         "hoverinfo": "text",
         "marker": {
          "color": "rgb(255,220,0)"
         },
         "mode": "lines",
         "text": [
          "champagne_bottle_chocolate_anniversary_strawberries",
          "",
          "",
          "anniversary_celebrate_wedding_our_husband"
         ],
         "type": "scatter",
         "x": [
          0,
          0.7118180163805786,
          0.7118180163805786,
          0
         ],
         "xaxis": "x",
         "y": [
          -165,
          -165,
          -175,
          -175
         ],
         "yaxis": "y"
        },
        {
         "hoverinfo": "text",
         "marker": {
          "color": "rgb(0,116,217)"
         },
         "mode": "lines",
         "text": [
          "champagne_bottle_chocolate_anniversary_strawberries",
          "",
          "",
          "anniversary_celebrate_wedding_our_husband"
         ],
         "type": "scatter",
         "x": [
          0.9585154615139905,
          1.0831329183155125,
          1.0831329183155125,
          0.7118180163805786
         ],
         "xaxis": "x",
         "y": [
          -130.625,
          -130.625,
          -170,
          -170
         ],
         "yaxis": "y"
        },
        {
         "hoverinfo": "text",
         "marker": {
          "color": "rgb(40,35,35)"
         },
         "mode": "lines",
         "text": [
          "turn_turndown_down_service_night",
          "",
          "",
          "housekeeping_job_clean_turn_returned"
         ],
         "type": "scatter",
         "x": [
          0,
          0.786339737666828,
          0.786339737666828,
          0
         ],
         "xaxis": "x",
         "y": [
          -205,
          -205,
          -215,
          -215
         ],
         "yaxis": "y"
        },
        {
         "hoverinfo": "text",
         "marker": {
          "color": "rgb(40,35,35)"
         },
         "mode": "lines",
         "text": [
          "ice_water_cold_pack_hour",
          "",
          "",
          "housekeeping_job_clean_turn_returned"
         ],
         "type": "scatter",
         "x": [
          0,
          0.8467332498809524,
          0.8467332498809524,
          0.786339737666828
         ],
         "xaxis": "x",
         "y": [
          -195,
          -195,
          -210,
          -210
         ],
         "yaxis": "y"
        },
        {
         "hoverinfo": "text",
         "marker": {
          "color": "rgb(40,35,35)"
         },
         "mode": "lines",
         "text": [
          "tip_tipping_accept_gratuity_tips",
          "",
          "",
          "housekeeping_job_clean_turn_returned"
         ],
         "type": "scatter",
         "x": [
          0,
          0.9034579993689403,
          0.9034579993689403,
          0.8467332498809524
         ],
         "xaxis": "x",
         "y": [
          -185,
          -185,
          -202.5,
          -202.5
         ],
         "yaxis": "y"
        },
        {
         "hoverinfo": "text",
         "marker": {
          "color": "rgb(61,153,112)"
         },
         "mode": "lines",
         "text": [
          "towels_soft_bath_towel_cold",
          "",
          "",
          "slippers_robes_toiletries_sized_robe"
         ],
         "type": "scatter",
         "x": [
          0,
          0.8505206947233813,
          0.8505206947233813,
          0
         ],
         "xaxis": "x",
         "y": [
          -225,
          -225,
          -235,
          -235
         ],
         "yaxis": "y"
        },
        {
         "hoverinfo": "text",
         "marker": {
          "color": "rgb(0,116,217)"
         },
         "mode": "lines",
         "text": [
          "towels_soft_bath_towel_cold",
          "",
          "",
          "slippers_robes_toiletries_sized_robe"
         ],
         "type": "scatter",
         "x": [
          0.9034579993689403,
          1.027841602463885,
          1.027841602463885,
          0.8505206947233813
         ],
         "xaxis": "x",
         "y": [
          -193.75,
          -193.75,
          -230,
          -230
         ],
         "yaxis": "y"
        },
        {
         "hoverinfo": "text",
         "marker": {
          "color": "rgb(0,116,217)"
         },
         "mode": "lines",
         "text": [
          "towels_soft_bath_towel_cold",
          "",
          "",
          "slippers_robes_toiletries_sized_robe"
         ],
         "type": "scatter",
         "x": [
          1.0831329183155125,
          1.1316849109984526,
          1.1316849109984526,
          1.027841602463885
         ],
         "xaxis": "x",
         "y": [
          -150.3125,
          -150.3125,
          -211.875,
          -211.875
         ],
         "yaxis": "y"
        },
        {
         "hoverinfo": "text",
         "marker": {
          "color": "rgb(255,65,54)"
         },
         "mode": "lines",
         "text": [
          "air_conditioning_conditioner_temperature_properly",
          "",
          "",
          "noise_quiet_hear_loud_street"
         ],
         "type": "scatter",
         "x": [
          0,
          0.7732556189964808,
          0.7732556189964808,
          0
         ],
         "xaxis": "x",
         "y": [
          -255,
          -255,
          -265,
          -265
         ],
         "yaxis": "y"
        },
        {
         "hoverinfo": "text",
         "marker": {
          "color": "rgb(255,65,54)"
         },
         "mode": "lines",
         "text": [
          "elevator_elevators_floor_key_5th",
          "",
          "",
          "lobby_gorgeous_is_small_building"
         ],
         "type": "scatter",
         "x": [
          0,
          0.8130880147409081,
          0.8130880147409081,
          0
         ],
         "xaxis": "x",
         "y": [
          -285,
          -285,
          -295,
          -295
         ],
         "yaxis": "y"
        },
        {
         "hoverinfo": "text",
         "marker": {
          "color": "rgb(255,65,54)"
         },
         "mode": "lines",
         "text": [
          "smell_odor_smelled_mildew_tissue",
          "",
          "",
          "lobby_gorgeous_is_small_building"
         ],
         "type": "scatter",
         "x": [
          0,
          0.8837344150336446,
          0.8837344150336446,
          0.8130880147409081
         ],
         "xaxis": "x",
         "y": [
          -275,
          -275,
          -290,
          -290
         ],
         "yaxis": "y"
        },
        {
         "hoverinfo": "text",
         "marker": {
          "color": "rgb(255,65,54)"
         },
         "mode": "lines",
         "text": [
          "smell_odor_smelled_mildew_tissue",
          "",
          "",
          "lobby_gorgeous_is_small_building"
         ],
         "type": "scatter",
         "x": [
          0.7732556189964808,
          0.9408316159979374,
          0.9408316159979374,
          0.8837344150336446
         ],
         "xaxis": "x",
         "y": [
          -260,
          -260,
          -282.5,
          -282.5
         ],
         "yaxis": "y"
        },
        {
         "hoverinfo": "text",
         "marker": {
          "color": "rgb(255,65,54)"
         },
         "mode": "lines",
         "text": [
          "issues_minor_few_complain_complaints",
          "",
          "",
          "lobby_gorgeous_is_small_building"
         ],
         "type": "scatter",
         "x": [
          0,
          0.9624756992883796,
          0.9624756992883796,
          0.9408316159979374
         ],
         "xaxis": "x",
         "y": [
          -245,
          -245,
          -271.25,
          -271.25
         ],
         "yaxis": "y"
        },
        {
         "hoverinfo": "text",
         "marker": {
          "color": "rgb(35,205,205)"
         },
         "mode": "lines",
         "text": [
          "view_floor_views_room_harbor",
          "",
          "",
          "suite_upgraded_king_deluxe_upgrade"
         ],
         "type": "scatter",
         "x": [
          0,
          0.6611664424721411,
          0.6611664424721411,
          0
         ],
         "xaxis": "x",
         "y": [
          -315,
          -315,
          -325,
          -325
         ],
         "yaxis": "y"
        },
        {
         "hoverinfo": "text",
         "marker": {
          "color": "rgb(35,205,205)"
         },
         "mode": "lines",
         "text": [
          "dirty_clean_carpets_dusty_room",
          "",
          "",
          "view_suite_floor_room_upgraded"
         ],
         "type": "scatter",
         "x": [
          0,
          0.869374176178728,
          0.869374176178728,
          0.6611664424721411
         ],
         "xaxis": "x",
         "y": [
          -305,
          -305,
          -320,
          -320
         ],
         "yaxis": "y"
        },
        {
         "hoverinfo": "text",
         "marker": {
          "color": "rgb(35,205,205)"
         },
         "mode": "lines",
         "text": [
          "room_nice_was_lovely_spirited",
          "",
          "",
          "room_spotless_noticed_huge_was"
         ],
         "type": "scatter",
         "x": [
          0,
          0.7235683472813162,
          0.7235683472813162,
          0
         ],
         "xaxis": "x",
         "y": [
          -335,
          -335,
          -345,
          -345
         ],
         "yaxis": "y"
        },
        {
         "hoverinfo": "text",
         "marker": {
          "color": "rgb(35,205,205)"
         },
         "mode": "lines",
         "text": [
          "room_nice_was_lovely_spirited",
          "",
          "",
          "room_was_nice_spotless_noticed"
         ],
         "type": "scatter",
         "x": [
          0.869374176178728,
          0.9164588530875224,
          0.9164588530875224,
          0.7235683472813162
         ],
         "xaxis": "x",
         "y": [
          -312.5,
          -312.5,
          -340,
          -340
         ],
         "yaxis": "y"
        },
        {
         "hoverinfo": "text",
         "marker": {
          "color": "rgb(0,116,217)"
         },
         "mode": "lines",
         "text": [
          "room_nice_was_lovely_spirited",
          "",
          "",
          "room_was_nice_spotless_noticed"
         ],
         "type": "scatter",
         "x": [
          0.9624756992883796,
          1.0177949159895305,
          1.0177949159895305,
          0.9164588530875224
         ],
         "xaxis": "x",
         "y": [
          -258.125,
          -258.125,
          -326.25,
          -326.25
         ],
         "yaxis": "y"
        },
        {
         "hoverinfo": "text",
         "marker": {
          "color": "rgb(61,153,112)"
         },
         "mode": "lines",
         "text": [
          "worth_expensive_penny_cheap_every",
          "",
          "",
          "rate_rates_price_night_pay"
         ],
         "type": "scatter",
         "x": [
          0,
          0.7281458621902677,
          0.7281458621902677,
          0
         ],
         "xaxis": "x",
         "y": [
          -355,
          -355,
          -365,
          -365
         ],
         "yaxis": "y"
        },
        {
         "hoverinfo": "text",
         "marker": {
          "color": "rgb(61,153,112)"
         },
         "mode": "lines",
         "text": [
          "worth_expensive_penny_cheap_every",
          "",
          "",
          "parking_valet_35_seems_fee"
         ],
         "type": "scatter",
         "x": [
          0.7281458621902677,
          0.8807824651904179,
          0.8807824651904179,
          0
         ],
         "xaxis": "x",
         "y": [
          -360,
          -360,
          -375,
          -375
         ],
         "yaxis": "y"
        },
        {
         "hoverinfo": "text",
         "marker": {
          "color": "rgb(255,65,54)"
         },
         "mode": "lines",
         "text": [
          "ipad_cd_iphone_bose_player",
          "",
          "",
          "internet_wifi_free_wi_fi"
         ],
         "type": "scatter",
         "x": [
          0,
          0.8112913994005463,
          0.8112913994005463,
          0
         ],
         "xaxis": "x",
         "y": [
          -385,
          -385,
          -395,
          -395
         ],
         "yaxis": "y"
        },
        {
         "hoverinfo": "text",
         "marker": {
          "color": "rgb(255,65,54)"
         },
         "mode": "lines",
         "text": [
          "coffee_tea_maker_nespresso_morning",
          "",
          "",
          "breakfast_morning_buffet_breakfasts_included"
         ],
         "type": "scatter",
         "x": [
          0,
          0.797912998866232,
          0.797912998866232,
          0
         ],
         "xaxis": "x",
         "y": [
          -405,
          -405,
          -415,
          -415
         ],
         "yaxis": "y"
        },
        {
         "hoverinfo": "text",
         "marker": {
          "color": "rgb(255,65,54)"
         },
         "mode": "lines",
         "text": [
          "coffee_tea_maker_nespresso_morning",
          "",
          "",
          "breakfast_morning_buffet_breakfasts_included"
         ],
         "type": "scatter",
         "x": [
          0.8112913994005463,
          0.9253872371643305,
          0.9253872371643305,
          0.797912998866232
         ],
         "xaxis": "x",
         "y": [
          -390,
          -390,
          -410,
          -410
         ],
         "yaxis": "y"
        },
        {
         "hoverinfo": "text",
         "marker": {
          "color": "rgb(255,65,54)"
         },
         "mode": "lines",
         "text": [
          "gym_fitness_workout_facility_center",
          "",
          "",
          "pool_area_swimming_small_gym"
         ],
         "type": "scatter",
         "x": [
          0,
          0.7395818215794429,
          0.7395818215794429,
          0
         ],
         "xaxis": "x",
         "y": [
          -425,
          -425,
          -435,
          -435
         ],
         "yaxis": "y"
        },
        {
         "hoverinfo": "text",
         "marker": {
          "color": "rgb(255,65,54)"
         },
         "mode": "lines",
         "text": [
          "pool_gym_fitness_area_swimming",
          "",
          "",
          "spa_massage_massages_use_treatment"
         ],
         "type": "scatter",
         "x": [
          0.7395818215794429,
          0.8366121312983755,
          0.8366121312983755,
          0
         ],
         "xaxis": "x",
         "y": [
          -430,
          -430,
          -445,
          -445
         ],
         "yaxis": "y"
        },
        {
         "hoverinfo": "text",
         "marker": {
          "color": "rgb(255,65,54)"
         },
         "mode": "lines",
         "text": [
          "pool_gym_fitness_area_swimming",
          "",
          "",
          "spa_massage_massages_use_treatment"
         ],
         "type": "scatter",
         "x": [
          0.9253872371643305,
          0.992023557232478,
          0.992023557232478,
          0.8366121312983755
         ],
         "xaxis": "x",
         "y": [
          -400,
          -400,
          -437.5,
          -437.5
         ],
         "yaxis": "y"
        },
        {
         "hoverinfo": "text",
         "marker": {
          "color": "rgb(0,116,217)"
         },
         "mode": "lines",
         "text": [
          "pool_gym_fitness_area_swimming",
          "",
          "",
          "spa_massage_massages_use_treatment"
         ],
         "type": "scatter",
         "x": [
          0.8807824651904179,
          1.0335698687724164,
          1.0335698687724164,
          0.992023557232478
         ],
         "xaxis": "x",
         "y": [
          -367.5,
          -367.5,
          -418.75,
          -418.75
         ],
         "yaxis": "y"
        },
        {
         "hoverinfo": "text",
         "marker": {
          "color": "rgb(0,116,217)"
         },
         "mode": "lines",
         "text": [
          "pool_gym_fitness_area_swimming",
          "",
          "",
          "spa_massage_massages_use_treatment"
         ],
         "type": "scatter",
         "x": [
          1.0177949159895305,
          1.1460542128991962,
          1.1460542128991962,
          1.0335698687724164
         ],
         "xaxis": "x",
         "y": [
          -292.1875,
          -292.1875,
          -393.125,
          -393.125
         ],
         "yaxis": "y"
        },
        {
         "hoverinfo": "text",
         "marker": {
          "color": "rgb(35,205,205)"
         },
         "mode": "lines",
         "text": [
          "dinner_eat_restaurant_closed_ate",
          "",
          "",
          "food_delicious_tasty_meal_was"
         ],
         "type": "scatter",
         "x": [
          0,
          0.6853181132531982,
          0.6853181132531982,
          0
         ],
         "xaxis": "x",
         "y": [
          -465,
          -465,
          -475,
          -475
         ],
         "yaxis": "y"
        },
        {
         "hoverinfo": "text",
         "marker": {
          "color": "rgb(35,205,205)"
         },
         "mode": "lines",
         "text": [
          "bar_drinks_lounge_drink_cocktails",
          "",
          "",
          "food_dinner_delicious_restaurant_meal"
         ],
         "type": "scatter",
         "x": [
          0,
          0.7365099526821721,
          0.7365099526821721,
          0.6853181132531982
         ],
         "xaxis": "x",
         "y": [
          -455,
          -455,
          -470,
          -470
         ],
         "yaxis": "y"
        },
        {
         "hoverinfo": "text",
         "marker": {
          "color": "rgb(35,205,205)"
         },
         "mode": "lines",
         "text": [
          "restaurant_excellent_refurbishing_michelle_sample",
          "",
          "",
          "stations_restaurants_restaurant_dining_entertainment"
         ],
         "type": "scatter",
         "x": [
          0,
          0.7778359193973421,
          0.7778359193973421,
          0
         ],
         "xaxis": "x",
         "y": [
          -485,
          -485,
          -495,
          -495
         ],
         "yaxis": "y"
        },
        {
         "hoverinfo": "text",
         "marker": {
          "color": "rgb(35,205,205)"
         },
         "mode": "lines",
         "text": [
          "bar_food_drinks_drink_lounge",
          "",
          "",
          "stations_restaurants_restaurant_dining_entertainment"
         ],
         "type": "scatter",
         "x": [
          0.7365099526821721,
          0.843372764157776,
          0.843372764157776,
          0.7778359193973421
         ],
         "xaxis": "x",
         "y": [
          -462.5,
          -462.5,
          -490,
          -490
         ],
         "yaxis": "y"
        },
        {
         "hoverinfo": "text",
         "marker": {
          "color": "rgb(0,116,217)"
         },
         "mode": "lines",
         "text": [
          "bar_food_drinks_drink_lounge",
          "",
          "",
          "stations_restaurants_restaurant_dining_entertainment"
         ],
         "type": "scatter",
         "x": [
          1.1460542128991962,
          1.225279455676051,
          1.225279455676051,
          0.843372764157776
         ],
         "xaxis": "x",
         "y": [
          -342.65625,
          -342.65625,
          -476.25,
          -476.25
         ],
         "yaxis": "y"
        },
        {
         "hoverinfo": "text",
         "marker": {
          "color": "rgb(0,116,217)"
         },
         "mode": "lines",
         "text": [
          "bar_food_drinks_drink_lounge",
          "",
          "",
          "stations_restaurants_restaurant_dining_entertainment"
         ],
         "type": "scatter",
         "x": [
          1.1316849109984526,
          1.269418963478064,
          1.269418963478064,
          1.225279455676051
         ],
         "xaxis": "x",
         "y": [
          -181.09375,
          -181.09375,
          -409.453125,
          -409.453125
         ],
         "yaxis": "y"
        },
        {
         "hoverinfo": "text",
         "marker": {
          "color": "rgb(133,20,75)"
         },
         "mode": "lines",
         "text": [
          "decor_furnishings_style_modern_elegance",
          "",
          "",
          "hotel_decor_historic_renovated_modern"
         ],
         "type": "scatter",
         "x": [
          0,
          0.6499280713352488,
          0.6499280713352488,
          0
         ],
         "xaxis": "x",
         "y": [
          -505,
          -505,
          -515,
          -515
         ],
         "yaxis": "y"
        },
        {
         "hoverinfo": "text",
         "marker": {
          "color": "rgb(255,220,0)"
         },
         "mode": "lines",
         "text": [
          "rooms_are_spacious_comfortable_decorated",
          "",
          "",
          "clean_spacious_modern_room_rooms"
         ],
         "type": "scatter",
         "x": [
          0,
          0.6252391962671625,
          0.6252391962671625,
          0
         ],
         "xaxis": "x",
         "y": [
          -535,
          -535,
          -545,
          -545
         ],
         "yaxis": "y"
        },
        {
         "hoverinfo": "text",
         "marker": {
          "color": "rgb(255,220,0)"
         },
         "mode": "lines",
         "text": [
          "location_great_rooms_service_amenities",
          "",
          "",
          "clean_spacious_modern_room_rooms"
         ],
         "type": "scatter",
         "x": [
          0,
          0.7473906937774585,
          0.7473906937774585,
          0.6252391962671625
         ],
         "xaxis": "x",
         "y": [
          -525,
          -525,
          -540,
          -540
         ],
         "yaxis": "y"
        },
        {
         "hoverinfo": "text",
         "marker": {
          "color": "rgb(255,220,0)"
         },
         "mode": "lines",
         "text": [
          "location_great_rooms_service_amenities",
          "",
          "",
          "bed_comfortable_pillows_beds_linens"
         ],
         "type": "scatter",
         "x": [
          0.7473906937774585,
          0.8359189938952988,
          0.8359189938952988,
          0
         ],
         "xaxis": "x",
         "y": [
          -532.5,
          -532.5,
          -555,
          -555
         ],
         "yaxis": "y"
        },
        {
         "hoverinfo": "text",
         "marker": {
          "color": "rgb(0,116,217)"
         },
         "mode": "lines",
         "text": [
          "decor_hotel_modern_furnishings_beautiful",
          "",
          "",
          "bed_comfortable_pillows_beds_linens"
         ],
         "type": "scatter",
         "x": [
          0.6499280713352488,
          1.0113973481012468,
          1.0113973481012468,
          0.8359189938952988
         ],
         "xaxis": "x",
         "y": [
          -510,
          -510,
          -543.75,
          -543.75
         ],
         "yaxis": "y"
        },
        {
         "hoverinfo": "text",
         "marker": {
          "color": "rgb(40,35,35)"
         },
         "mode": "lines",
         "text": [
          "drawers_desk_closet_couch_large",
          "",
          "",
          "shower_bathroom_tub_bath_toilet"
         ],
         "type": "scatter",
         "x": [
          0,
          0.7500840731757529,
          0.7500840731757529,
          0
         ],
         "xaxis": "x",
         "y": [
          -565,
          -565,
          -575,
          -575
         ],
         "yaxis": "y"
        },
        {
         "hoverinfo": "text",
         "marker": {
          "color": "rgb(40,35,35)"
         },
         "mode": "lines",
         "text": [
          "mirror_tv_bathroom_built_mirrors",
          "",
          "",
          "tv_channels_large_hd_screen"
         ],
         "type": "scatter",
         "x": [
          0,
          0.6371902318899431,
          0.6371902318899431,
          0
         ],
         "xaxis": "x",
         "y": [
          -585,
          -585,
          -595,
          -595
         ],
         "yaxis": "y"
        },
        {
         "hoverinfo": "text",
         "marker": {
          "color": "rgb(40,35,35)"
         },
         "mode": "lines",
         "text": [
          "mirror_tv_bathroom_built_mirrors",
          "",
          "",
          "tv_mirror_bathroom_channels_screen"
         ],
         "type": "scatter",
         "x": [
          0.7500840731757529,
          0.8689769542251516,
          0.8689769542251516,
          0.6371902318899431
         ],
         "xaxis": "x",
         "y": [
          -570,
          -570,
          -590,
          -590
         ],
         "yaxis": "y"
        },
        {
         "hoverinfo": "text",
         "marker": {
          "color": "rgb(0,116,217)"
         },
         "mode": "lines",
         "text": [
          "mirror_tv_bathroom_built_mirrors",
          "",
          "",
          "tv_mirror_bathroom_channels_screen"
         ],
         "type": "scatter",
         "x": [
          1.0113973481012468,
          1.1985706738678166,
          1.1985706738678166,
          0.8689769542251516
         ],
         "xaxis": "x",
         "y": [
          -526.875,
          -526.875,
          -580,
          -580
         ],
         "yaxis": "y"
        },
        {
         "hoverinfo": "text",
         "marker": {
          "color": "rgb(0,116,217)"
         },
         "mode": "lines",
         "text": [
          "mirror_tv_bathroom_built_mirrors",
          "",
          "",
          "tv_mirror_bathroom_channels_screen"
         ],
         "type": "scatter",
         "x": [
          1.269418963478064,
          1.3750253808311308,
          1.3750253808311308,
          1.1985706738678166
         ],
         "xaxis": "x",
         "y": [
          -295.2734375,
          -295.2734375,
          -553.4375,
          -553.4375
         ],
         "yaxis": "y"
        },
        {
         "hoverinfo": "text",
         "marker": {
          "color": "rgb(0,116,217)"
         },
         "mode": "lines",
         "text": [
          "mirror_tv_bathroom_built_mirrors",
          "",
          "",
          "tv_mirror_bathroom_channels_screen"
         ],
         "type": "scatter",
         "x": [
          1.1457308685613836,
          1.4838735747777543,
          1.4838735747777543,
          1.3750253808311308
         ],
         "xaxis": "x",
         "y": [
          -48.75,
          -48.75,
          -424.35546875,
          -424.35546875
         ],
         "yaxis": "y"
        },
        {
         "hoverinfo": "text",
         "marker": {
          "color": "rgb(61,153,112)"
         },
         "mode": "lines",
         "text": [
          "back_will_return_be_definitely",
          "",
          "",
          "return_will_again_back_would"
         ],
         "type": "scatter",
         "x": [
          0,
          0.41431260444454865,
          0.41431260444454865,
          0
         ],
         "xaxis": "x",
         "y": [
          -605,
          -605,
          -615,
          -615
         ],
         "yaxis": "y"
        },
        {
         "hoverinfo": "text",
         "marker": {
          "color": "rgb(61,153,112)"
         },
         "mode": "lines",
         "text": [
          "here_will_again_staying_stay",
          "",
          "",
          "again_would_here_stay_definitely"
         ],
         "type": "scatter",
         "x": [
          0,
          0.4237268555336994,
          0.4237268555336994,
          0
         ],
         "xaxis": "x",
         "y": [
          -625,
          -625,
          -635,
          -635
         ],
         "yaxis": "y"
        },
        {
         "hoverinfo": "text",
         "marker": {
          "color": "rgb(61,153,112)"
         },
         "mode": "lines",
         "text": [
          "again_here_would_stay_definitely",
          "",
          "",
          "stay_here_overall_wonderful_enjoyed"
         ],
         "type": "scatter",
         "x": [
          0.4237268555336994,
          0.7081953803460064,
          0.7081953803460064,
          0
         ],
         "xaxis": "x",
         "y": [
          -630,
          -630,
          -645,
          -645
         ],
         "yaxis": "y"
        },
        {
         "hoverinfo": "text",
         "marker": {
          "color": "rgb(61,153,112)"
         },
         "mode": "lines",
         "text": [
          "back_will_return_definitely_be",
          "",
          "",
          "stay_here_overall_wonderful_enjoyed"
         ],
         "type": "scatter",
         "x": [
          0.41431260444454865,
          0.9039715173081759,
          0.9039715173081759,
          0.7081953803460064
         ],
         "xaxis": "x",
         "y": [
          -610,
          -610,
          -637.5,
          -637.5
         ],
         "yaxis": "y"
        },
        {
         "hoverinfo": "text",
         "marker": {
          "color": "rgb(255,65,54)"
         },
         "mode": "lines",
         "text": [
          "nights_august_spent_during_this",
          "",
          "",
          "stayed_nights_august_here_wife"
         ],
         "type": "scatter",
         "x": [
          0,
          0.463010929187732,
          0.463010929187732,
          0
         ],
         "xaxis": "x",
         "y": [
          -655,
          -655,
          -665,
          -665
         ],
         "yaxis": "y"
        },
        {
         "hoverinfo": "text",
         "marker": {
          "color": "rgb(255,65,54)"
         },
         "mode": "lines",
         "text": [
          "nights_stayed_august_here_wife",
          "",
          "",
          "stayed_days_here_adams_hay"
         ],
         "type": "scatter",
         "x": [
          0.463010929187732,
          0.6424839152676544,
          0.6424839152676544,
          0
         ],
         "xaxis": "x",
         "y": [
          -660,
          -660,
          -675,
          -675
         ],
         "yaxis": "y"
        },
        {
         "hoverinfo": "text",
         "marker": {
          "color": "rgb(255,65,54)"
         },
         "mode": "lines",
         "text": [
          "hotels_stayed_ve_best_nicest",
          "",
          "",
          "surrey_london_palms_royal_stayed"
         ],
         "type": "scatter",
         "x": [
          0,
          0.723971664631794,
          0.723971664631794,
          0
         ],
         "xaxis": "x",
         "y": [
          -685,
          -685,
          -695,
          -695
         ],
         "yaxis": "y"
        },
        {
         "hoverinfo": "text",
         "marker": {
          "color": "rgb(255,65,54)"
         },
         "mode": "lines",
         "text": [
          "stayed_nights_august_here_wife",
          "",
          "",
          "surrey_london_palms_royal_stayed"
         ],
         "type": "scatter",
         "x": [
          0.6424839152676544,
          0.8643630335265767,
          0.8643630335265767,
          0.723971664631794
         ],
         "xaxis": "x",
         "y": [
          -667.5,
          -667.5,
          -690,
          -690
         ],
         "yaxis": "y"
        },
        {
         "hoverinfo": "text",
         "marker": {
          "color": "rgb(35,205,205)"
         },
         "mode": "lines",
         "text": [
          "star_stars_five_category_every",
          "",
          "",
          "star_five_stars_hotel_hotels"
         ],
         "type": "scatter",
         "x": [
          0,
          0.35515418295154944,
          0.35515418295154944,
          0
         ],
         "xaxis": "x",
         "y": [
          -705,
          -705,
          -715,
          -715
         ],
         "yaxis": "y"
        },
        {
         "hoverinfo": "text",
         "marker": {
          "color": "rgb(61,153,112)"
         },
         "mode": "lines",
         "text": [
          "service_customer_impeccable_friendly_exceptional",
          "",
          "",
          "service_room_poor_znd_timeliness"
         ],
         "type": "scatter",
         "x": [
          0,
          0.5829596043628738,
          0.5829596043628738,
          0
         ],
         "xaxis": "x",
         "y": [
          -735,
          -735,
          -745,
          -745
         ],
         "yaxis": "y"
        },
        {
         "hoverinfo": "text",
         "marker": {
          "color": "rgb(61,153,112)"
         },
         "mode": "lines",
         "text": [
          "service_fs_hotel_this_potentential",
          "",
          "",
          "service_customer_impeccable_friendly_was"
         ],
         "type": "scatter",
         "x": [
          0,
          0.73701986555988,
          0.73701986555988,
          0.5829596043628738
         ],
         "xaxis": "x",
         "y": [
          -725,
          -725,
          -740,
          -740
         ],
         "yaxis": "y"
        },
        {
         "hoverinfo": "text",
         "marker": {
          "color": "rgb(0,116,217)"
         },
         "mode": "lines",
         "text": [
          "star_five_stars_this_hotel",
          "",
          "",
          "service_customer_impeccable_excellent_was"
         ],
         "type": "scatter",
         "x": [
          0.35515418295154944,
          1.1981663261787807,
          1.1981663261787807,
          0.73701986555988
         ],
         "xaxis": "x",
         "y": [
          -710,
          -710,
          -732.5,
          -732.5
         ],
         "yaxis": "y"
        },
        {
         "hoverinfo": "text",
         "marker": {
          "color": "rgb(255,65,54)"
         },
         "mode": "lines",
         "text": [
          "carlton_ritz_charlotte_at_stayed",
          "",
          "",
          "ritz_at_fabulous_stay_service"
         ],
         "type": "scatter",
         "x": [
          0,
          0.4669953962491231,
          0.4669953962491231,
          0
         ],
         "xaxis": "x",
         "y": [
          -755,
          -755,
          -765,
          -765
         ],
         "yaxis": "y"
        },
        {
         "hoverinfo": "text",
         "marker": {
          "color": "rgb(35,205,205)"
         },
         "mode": "lines",
         "text": [
          "seasons_four_baltimore_regis_at",
          "",
          "",
          "chicago_in_best_stay_choice"
         ],
         "type": "scatter",
         "x": [
          0,
          0.7629376674472778,
          0.7629376674472778,
          0
         ],
         "xaxis": "x",
         "y": [
          -795,
          -795,
          -805,
          -805
         ],
         "yaxis": "y"
        },
        {
         "hoverinfo": "text",
         "marker": {
          "color": "rgb(35,205,205)"
         },
         "mode": "lines",
         "text": [
          "seasons_four_baltimore_regis_at",
          "",
          "",
          "trump_soho_chicago_returned_at"
         ],
         "type": "scatter",
         "x": [
          0.7629376674472778,
          0.8408497369177229,
          0.8408497369177229,
          0
         ],
         "xaxis": "x",
         "y": [
          -800,
          -800,
          -815,
          -815
         ],
         "yaxis": "y"
        },
        {
         "hoverinfo": "text",
         "marker": {
          "color": "rgb(35,205,205)"
         },
         "mode": "lines",
         "text": [
          "dc_jefferson_washington_fairfax_stay",
          "",
          "",
          "trump_soho_chicago_returned_at"
         ],
         "type": "scatter",
         "x": [
          0,
          0.8937874091178404,
          0.8937874091178404,
          0.8408497369177229
         ],
         "xaxis": "x",
         "y": [
          -785,
          -785,
          -807.5,
          -807.5
         ],
         "yaxis": "y"
        },
        {
         "hoverinfo": "text",
         "marker": {
          "color": "rgb(35,205,205)"
         },
         "mode": "lines",
         "text": [
          "dc_jefferson_washington_fairfax_stay",
          "",
          "",
          "waldorf_astoria_towers_grandest_chicago"
         ],
         "type": "scatter",
         "x": [
          0.8937874091178404,
          0.9152554562745053,
          0.9152554562745053,
          0
         ],
         "xaxis": "x",
         "y": [
          -796.25,
          -796.25,
          -825,
          -825
         ],
         "yaxis": "y"
        },
        {
         "hoverinfo": "text",
         "marker": {
          "color": "rgb(35,205,205)"
         },
         "mode": "lines",
         "text": [
          "hyatt_park_chicago_connection_working",
          "",
          "",
          "waldorf_astoria_towers_grandest_chicago"
         ],
         "type": "scatter",
         "x": [
          0,
          0.9250934232604706,
          0.9250934232604706,
          0.9152554562745053
         ],
         "xaxis": "x",
         "y": [
          -775,
          -775,
          -810.625,
          -810.625
         ],
         "yaxis": "y"
        },
        {
         "hoverinfo": "text",
         "marker": {
          "color": "rgb(35,205,205)"
         },
         "mode": "lines",
         "text": [
          "boston_harbor_common_our_seasons",
          "",
          "",
          "mandarin_oriental_boston_at_hotels"
         ],
         "type": "scatter",
         "x": [
          0,
          0.8128533924340114,
          0.8128533924340114,
          0
         ],
         "xaxis": "x",
         "y": [
          -835,
          -835,
          -845,
          -845
         ],
         "yaxis": "y"
        },
        {
         "hoverinfo": "text",
         "marker": {
          "color": "rgb(35,205,205)"
         },
         "mode": "lines",
         "text": [
          "boston_harbor_common_our_seasons",
          "",
          "",
          "mandarin_oriental_boston_at_hotels"
         ],
         "type": "scatter",
         "x": [
          0.9250934232604706,
          0.9834474121397271,
          0.9834474121397271,
          0.8128533924340114
         ],
         "xaxis": "x",
         "y": [
          -792.8125,
          -792.8125,
          -840,
          -840
         ],
         "yaxis": "y"
        },
        {
         "hoverinfo": "text",
         "marker": {
          "color": "rgb(133,20,75)"
         },
         "mode": "lines",
         "text": [
          "nyc_standards_manhattan_rooms_spacious",
          "",
          "",
          "nyc_york_new_ny_chatwal"
         ],
         "type": "scatter",
         "x": [
          0,
          0.49008829431445955,
          0.49008829431445955,
          0
         ],
         "xaxis": "x",
         "y": [
          -855,
          -855,
          -865,
          -865
         ],
         "yaxis": "y"
        },
        {
         "hoverinfo": "text",
         "marker": {
          "color": "rgb(133,20,75)"
         },
         "mode": "lines",
         "text": [
          "nyc_york_new_ny_chatwal",
          "",
          "",
          "conrad_shack_shake_new_meyer"
         ],
         "type": "scatter",
         "x": [
          0.49008829431445955,
          0.8820009056558241,
          0.8820009056558241,
          0
         ],
         "xaxis": "x",
         "y": [
          -860,
          -860,
          -875,
          -875
         ],
         "yaxis": "y"
        },
        {
         "hoverinfo": "text",
         "marker": {
          "color": "rgb(0,116,217)"
         },
         "mode": "lines",
         "text": [
          "nyc_york_new_ny_chatwal",
          "",
          "",
          "conrad_shack_shake_new_meyer"
         ],
         "type": "scatter",
         "x": [
          0.9834474121397271,
          1.041240016660319,
          1.041240016660319,
          0.8820009056558241
         ],
         "xaxis": "x",
         "y": [
          -816.40625,
          -816.40625,
          -867.5,
          -867.5
         ],
         "yaxis": "y"
        },
        {
         "hoverinfo": "text",
         "marker": {
          "color": "rgb(255,220,0)"
         },
         "mode": "lines",
         "text": [
          "relaxing_atmosphere_relaxed_relax_day",
          "",
          "",
          "la_vibe_confortably_specialy_biltmore"
         ],
         "type": "scatter",
         "x": [
          0,
          0.8262324525825566,
          0.8262324525825566,
          0
         ],
         "xaxis": "x",
         "y": [
          -885,
          -885,
          -895,
          -895
         ],
         "yaxis": "y"
        },
        {
         "hoverinfo": "text",
         "marker": {
          "color": "rgb(255,220,0)"
         },
         "mode": "lines",
         "text": [
          "hotel_this_recommend_highly_would",
          "",
          "",
          "experience_say_it_overall_expectations"
         ],
         "type": "scatter",
         "x": [
          0,
          0.6236678802544919,
          0.6236678802544919,
          0
         ],
         "xaxis": "x",
         "y": [
          -905,
          -905,
          -915,
          -915
         ],
         "yaxis": "y"
        },
        {
         "hoverinfo": "text",
         "marker": {
          "color": "rgb(255,220,0)"
         },
         "mode": "lines",
         "text": [
          "hotel_this_recommend_highly_would",
          "",
          "",
          "property_this_overall_save_is"
         ],
         "type": "scatter",
         "x": [
          0.6236678802544919,
          0.8429031148449916,
          0.8429031148449916,
          0
         ],
         "xaxis": "x",
         "y": [
          -910,
          -910,
          -925,
          -925
         ],
         "yaxis": "y"
        },
        {
         "hoverinfo": "text",
         "marker": {
          "color": "rgb(255,220,0)"
         },
         "mode": "lines",
         "text": [
          "hotel_this_recommend_highly_would",
          "",
          "",
          "property_this_overall_save_is"
         ],
         "type": "scatter",
         "x": [
          0.8262324525825566,
          0.9353108722684932,
          0.9353108722684932,
          0.8429031148449916
         ],
         "xaxis": "x",
         "y": [
          -890,
          -890,
          -917.5,
          -917.5
         ],
         "yaxis": "y"
        },
        {
         "hoverinfo": "text",
         "marker": {
          "color": "rgb(255,220,0)"
         },
         "mode": "lines",
         "text": [
          "highly_recommended_recommend_agno_spelling",
          "",
          "",
          "peninsula_3x_oue_cheep_dismissive"
         ],
         "type": "scatter",
         "x": [
          0,
          0.9493529211209089,
          0.9493529211209089,
          0
         ],
         "xaxis": "x",
         "y": [
          -935,
          -935,
          -945,
          -945
         ],
         "yaxis": "y"
        },
        {
         "hoverinfo": "text",
         "marker": {
          "color": "rgb(255,220,0)"
         },
         "mode": "lines",
         "text": [
          "highly_recommended_recommend_agno_spelling",
          "",
          "",
          "peninsula_3x_oue_cheep_dismissive"
         ],
         "type": "scatter",
         "x": [
          0.9353108722684932,
          0.9891102226274702,
          0.9891102226274702,
          0.9493529211209089
         ],
         "xaxis": "x",
         "y": [
          -903.75,
          -903.75,
          -940,
          -940
         ],
         "yaxis": "y"
        },
        {
         "hoverinfo": "text",
         "marker": {
          "color": "rgb(0,116,217)"
         },
         "mode": "lines",
         "text": [
          "highly_recommended_recommend_agno_spelling",
          "",
          "",
          "peninsula_3x_oue_cheep_dismissive"
         ],
         "type": "scatter",
         "x": [
          1.041240016660319,
          1.072098385627171,
          1.072098385627171,
          0.9891102226274702
         ],
         "xaxis": "x",
         "y": [
          -841.953125,
          -841.953125,
          -921.875,
          -921.875
         ],
         "yaxis": "y"
        },
        {
         "hoverinfo": "text",
         "marker": {
          "color": "rgb(40,35,35)"
         },
         "mode": "lines",
         "text": [
          "location_shopping_walk_walking_distance",
          "",
          "",
          "location_hotel_located_is_square"
         ],
         "type": "scatter",
         "x": [
          0,
          0.2941505591153072,
          0.2941505591153072,
          0
         ],
         "xaxis": "x",
         "y": [
          -955,
          -955,
          -965,
          -965
         ],
         "yaxis": "y"
        },
        {
         "hoverinfo": "text",
         "marker": {
          "color": "rgb(40,35,35)"
         },
         "mode": "lines",
         "text": [
          "location_shopping_walking_walk_restaurants",
          "",
          "",
          "san_diego_francisco_located_beach"
         ],
         "type": "scatter",
         "x": [
          0.2941505591153072,
          0.9264584602679532,
          0.9264584602679532,
          0
         ],
         "xaxis": "x",
         "y": [
          -960,
          -960,
          -975,
          -975
         ],
         "yaxis": "y"
        },
        {
         "hoverinfo": "text",
         "marker": {
          "color": "rgb(0,116,217)"
         },
         "mode": "lines",
         "text": [
          "location_shopping_walking_walk_restaurants",
          "",
          "",
          "san_diego_francisco_located_beach"
         ],
         "type": "scatter",
         "x": [
          1.072098385627171,
          1.0923858601534813,
          1.0923858601534813,
          0.9264584602679532
         ],
         "xaxis": "x",
         "y": [
          -881.9140625,
          -881.9140625,
          -967.5,
          -967.5
         ],
         "yaxis": "y"
        },
        {
         "hoverinfo": "text",
         "marker": {
          "color": "rgb(61,153,112)"
         },
         "mode": "lines",
         "text": [
          "fairmont_olympic_rates_swish_nasty",
          "",
          "",
          "seattle_puget_sound_fairmont_downtown"
         ],
         "type": "scatter",
         "x": [
          0,
          0.869586797059853,
          0.869586797059853,
          0
         ],
         "xaxis": "x",
         "y": [
          -985,
          -985,
          -995,
          -995
         ],
         "yaxis": "y"
        },
        {
         "hoverinfo": "text",
         "marker": {
          "color": "rgb(255,65,54)"
         },
         "mode": "lines",
         "text": [
          "00_ten_10_ouch_95",
          "",
          "",
          "grounds_garden_maintained_beautiful_are"
         ],
         "type": "scatter",
         "x": [
          0,
          0.9592730517583492,
          0.9592730517583492,
          0
         ],
         "xaxis": "x",
         "y": [
          -1005,
          -1005,
          -1015,
          -1015
         ],
         "yaxis": "y"
        },
        {
         "hoverinfo": "text",
         "marker": {
          "color": "rgb(0,116,217)"
         },
         "mode": "lines",
         "text": [
          "00_ten_10_ouch_95",
          "",
          "",
          "lol_cooney_genial_russian_plural"
         ],
         "type": "scatter",
         "x": [
          0.9592730517583492,
          1.0082926779710801,
          1.0082926779710801,
          0
         ],
         "xaxis": "x",
         "y": [
          -1010,
          -1010,
          -1025,
          -1025
         ],
         "yaxis": "y"
        },
        {
         "hoverinfo": "text",
         "marker": {
          "color": "rgb(0,116,217)"
         },
         "mode": "lines",
         "text": [
          "00_ten_10_ouch_95",
          "",
          "",
          "lol_cooney_genial_russian_plural"
         ],
         "type": "scatter",
         "x": [
          0.869586797059853,
          1.0218715010610653,
          1.0218715010610653,
          1.0082926779710801
         ],
         "xaxis": "x",
         "y": [
          -990,
          -990,
          -1017.5,
          -1017.5
         ],
         "yaxis": "y"
        },
        {
         "hoverinfo": "text",
         "marker": {
          "color": "rgb(0,116,217)"
         },
         "mode": "lines",
         "text": [
          "00_ten_10_ouch_95",
          "",
          "",
          "lol_cooney_genial_russian_plural"
         ],
         "type": "scatter",
         "x": [
          1.0923858601534813,
          1.1692198958456916,
          1.1692198958456916,
          1.0218715010610653
         ],
         "xaxis": "x",
         "y": [
          -924.70703125,
          -924.70703125,
          -1003.75,
          -1003.75
         ],
         "yaxis": "y"
        },
        {
         "hoverinfo": "text",
         "marker": {
          "color": "rgb(0,116,217)"
         },
         "mode": "lines",
         "text": [
          "ritz_carlton_at_stayed_charlotte",
          "",
          "",
          "lol_cooney_genial_russian_plural"
         ],
         "type": "scatter",
         "x": [
          0.4669953962491231,
          1.2239461660938502,
          1.2239461660938502,
          1.1692198958456916
         ],
         "xaxis": "x",
         "y": [
          -760,
          -760,
          -964.228515625,
          -964.228515625
         ],
         "yaxis": "y"
        },
        {
         "hoverinfo": "text",
         "marker": {
          "color": "rgb(0,116,217)"
         },
         "mode": "lines",
         "text": [
          "ritz_carlton_at_stayed_charlotte",
          "",
          "",
          "lol_cooney_genial_russian_plural"
         ],
         "type": "scatter",
         "x": [
          1.1981663261787807,
          1.2869359222555263,
          1.2869359222555263,
          1.2239461660938502
         ],
         "xaxis": "x",
         "y": [
          -721.25,
          -721.25,
          -862.1142578125,
          -862.1142578125
         ],
         "yaxis": "y"
        },
        {
         "hoverinfo": "text",
         "marker": {
          "color": "rgb(35,205,205)"
         },
         "mode": "lines",
         "text": [
          "de_et_le_est_la",
          "",
          "",
          "el_que_de_en_muy"
         ],
         "type": "scatter",
         "x": [
          0,
          0.7888590952419865,
          0.7888590952419865,
          0
         ],
         "xaxis": "x",
         "y": [
          -1035,
          -1035,
          -1045,
          -1045
         ],
         "yaxis": "y"
        },
        {
         "hoverinfo": "text",
         "marker": {
          "color": "rgb(35,205,205)"
         },
         "mode": "lines",
         "text": [
          "de_la_le_et_que",
          "",
          "",
          "di_il_la_che_molto"
         ],
         "type": "scatter",
         "x": [
          0.7888590952419865,
          0.8824675938121602,
          0.8824675938121602,
          0
         ],
         "xaxis": "x",
         "y": [
          -1040,
          -1040,
          -1055,
          -1055
         ],
         "yaxis": "y"
        },
        {
         "hoverinfo": "text",
         "marker": {
          "color": "rgb(0,116,217)"
         },
         "mode": "lines",
         "text": [
          "de_la_le_et_que",
          "",
          "",
          "de_la_le_un_et"
         ],
         "type": "scatter",
         "x": [
          1.2869359222555263,
          1.3667577441903287,
          1.3667577441903287,
          0.8824675938121602
         ],
         "xaxis": "x",
         "y": [
          -791.68212890625,
          -791.68212890625,
          -1047.5,
          -1047.5
         ],
         "yaxis": "y"
        },
        {
         "hoverinfo": "text",
         "marker": {
          "color": "rgb(0,116,217)"
         },
         "mode": "lines",
         "text": [
          "de_la_le_et_que",
          "",
          "",
          "de_la_le_un_et"
         ],
         "type": "scatter",
         "x": [
          0.8643630335265767,
          1.3953232897359484,
          1.3953232897359484,
          1.3667577441903287
         ],
         "xaxis": "x",
         "y": [
          -678.75,
          -678.75,
          -919.591064453125,
          -919.591064453125
         ],
         "yaxis": "y"
        },
        {
         "hoverinfo": "text",
         "marker": {
          "color": "rgb(0,116,217)"
         },
         "mode": "lines",
         "text": [
          "de_la_le_et_que",
          "",
          "",
          "de_la_le_un_et"
         ],
         "type": "scatter",
         "x": [
          0.9039715173081759,
          1.4857917231095867,
          1.4857917231095867,
          1.3953232897359484
         ],
         "xaxis": "x",
         "y": [
          -623.75,
          -623.75,
          -799.1705322265625,
          -799.1705322265625
         ],
         "yaxis": "y"
        },
        {
         "hoverinfo": "text",
         "marker": {
          "color": "rgb(0,116,217)"
         },
         "mode": "lines",
         "text": [
          "de_la_le_et_que",
          "",
          "",
          "de_la_le_un_et"
         ],
         "type": "scatter",
         "x": [
          1.4838735747777543,
          1.7326866898053543,
          1.7326866898053543,
          1.4857917231095867
         ],
         "xaxis": "x",
         "y": [
          -236.552734375,
          -236.552734375,
          -711.4602661132812,
          -711.4602661132812
         ],
         "yaxis": "y"
        },
        {
         "hoverinfo": "text",
         "hovertext": [
          "staff_friendly_helpful_very_professional",
          "concierge_reservations_helpful_suggestions_us",
          "valet_desk_front_staff_everyone",
          "check_early_ready_fast_call",
          "check_bags_bill_call_our",
          "champagne_bottle_chocolate_anniversary_strawberries",
          "towels_soft_bath_towel_cold",
          "towels_soft_bath_towel_cold",
          "smell_odor_smelled_mildew_tissue",
          "room_nice_was_lovely_spirited",
          "room_nice_was_lovely_spirited",
          "worth_expensive_penny_cheap_every",
          "coffee_tea_maker_nespresso_morning",
          "pool_gym_fitness_area_swimming",
          "pool_gym_fitness_area_swimming",
          "pool_gym_fitness_area_swimming",
          "pool_gym_fitness_area_swimming",
          "bar_food_drinks_drink_lounge",
          "bar_food_drinks_drink_lounge",
          "bar_food_drinks_drink_lounge",
          "location_great_rooms_service_amenities",
          "decor_hotel_modern_furnishings_beautiful",
          "mirror_tv_bathroom_built_mirrors",
          "mirror_tv_bathroom_built_mirrors",
          "mirror_tv_bathroom_built_mirrors",
          "mirror_tv_bathroom_built_mirrors",
          "again_here_would_stay_definitely",
          "back_will_return_definitely_be",
          "nights_stayed_august_here_wife",
          "stayed_nights_august_here_wife",
          "star_five_stars_this_hotel",
          "seasons_four_baltimore_regis_at",
          "dc_jefferson_washington_fairfax_stay",
          "boston_harbor_common_our_seasons",
          "nyc_york_new_ny_chatwal",
          "nyc_york_new_ny_chatwal",
          "hotel_this_recommend_highly_would",
          "hotel_this_recommend_highly_would",
          "highly_recommended_recommend_agno_spelling",
          "highly_recommended_recommend_agno_spelling",
          "location_shopping_walking_walk_restaurants",
          "location_shopping_walking_walk_restaurants",
          "00_ten_10_ouch_95",
          "00_ten_10_ouch_95",
          "00_ten_10_ouch_95",
          "ritz_carlton_at_stayed_charlotte",
          "ritz_carlton_at_stayed_charlotte",
          "de_la_le_et_que",
          "de_la_le_et_que",
          "de_la_le_et_que",
          "de_la_le_et_que",
          "de_la_le_et_que"
         ],
         "marker": {
          "color": "black"
         },
         "mode": "markers",
         "showlegend": false,
         "type": "scatter",
         "x": [
          0.29549246974143795,
          0.6866605902885566,
          1.086212436964618,
          0.7270444633752563,
          0.9155419064530164,
          0.9585154615139905,
          0.9034579993689403,
          1.0831329183155125,
          0.7732556189964808,
          0.869374176178728,
          0.9624756992883796,
          0.7281458621902677,
          0.8112913994005463,
          0.7395818215794429,
          0.9253872371643305,
          0.8807824651904179,
          1.0177949159895305,
          0.7365099526821721,
          1.1460542128991962,
          1.1316849109984526,
          0.7473906937774585,
          0.6499280713352488,
          0.7500840731757529,
          1.0113973481012468,
          1.269418963478064,
          1.1457308685613836,
          0.4237268555336994,
          0.41431260444454865,
          0.463010929187732,
          0.6424839152676544,
          0.35515418295154944,
          0.7629376674472778,
          0.8937874091178404,
          0.9250934232604706,
          0.49008829431445955,
          0.9834474121397271,
          0.6236678802544919,
          0.8262324525825566,
          0.9353108722684932,
          1.041240016660319,
          0.2941505591153072,
          1.072098385627171,
          0.9592730517583492,
          0.869586797059853,
          1.0923858601534813,
          0.4669953962491231,
          1.1981663261787807,
          0.7888590952419865,
          1.2869359222555263,
          0.8643630335265767,
          0.9039715173081759,
          1.4838735747777543
         ],
         "y": [
          -30,
          -10,
          -25,
          -100,
          -111.25,
          -130.625,
          -193.75,
          -150.3125,
          -260,
          -312.5,
          -258.125,
          -360,
          -390,
          -430,
          -400,
          -367.5,
          -292.1875,
          -462.5,
          -342.65625,
          -181.09375,
          -532.5,
          -510,
          -570,
          -526.875,
          -295.2734375,
          -48.75,
          -630,
          -610,
          -660,
          -667.5,
          -710,
          -800,
          -796.25,
          -792.8125,
          -860,
          -816.40625,
          -910,
          -890,
          -903.75,
          -841.953125,
          -960,
          -881.9140625,
          -1010,
          -990,
          -924.70703125,
          -760,
          -721.25,
          -1040,
          -791.68212890625,
          -678.75,
          -623.75,
          -236.552734375
         ]
        },
        {
         "hoverinfo": "text",
         "hovertext": [
          "name_names_by_knew_everyone",
          "name_names_by_knew_everyone",
          "desk_front_helpful_staff_professional",
          "desk_front_staff_helpful_valet",
          "bill_called_me_call_fixed",
          "bill_called_me_call_fixed",
          "she_standing_health_her_asked",
          "anniversary_celebrate_wedding_our_husband",
          "housekeeping_job_clean_turn_returned",
          "housekeeping_job_clean_turn_returned",
          "slippers_robes_toiletries_sized_robe",
          "slippers_robes_toiletries_sized_robe",
          "lobby_gorgeous_is_small_building",
          "lobby_gorgeous_is_small_building",
          "lobby_gorgeous_is_small_building",
          "view_suite_floor_room_upgraded",
          "room_was_nice_spotless_noticed",
          "room_was_nice_spotless_noticed",
          "breakfast_morning_buffet_breakfasts_included",
          "spa_massage_massages_use_treatment",
          "spa_massage_massages_use_treatment",
          "spa_massage_massages_use_treatment",
          "food_dinner_delicious_restaurant_meal",
          "stations_restaurants_restaurant_dining_entertainment",
          "stations_restaurants_restaurant_dining_entertainment",
          "stations_restaurants_restaurant_dining_entertainment",
          "clean_spacious_modern_room_rooms",
          "bed_comfortable_pillows_beds_linens",
          "tv_mirror_bathroom_channels_screen",
          "tv_mirror_bathroom_channels_screen",
          "tv_mirror_bathroom_channels_screen",
          "tv_mirror_bathroom_channels_screen",
          "stay_here_overall_wonderful_enjoyed",
          "surrey_london_palms_royal_stayed",
          "service_customer_impeccable_friendly_was",
          "service_customer_impeccable_excellent_was",
          "trump_soho_chicago_returned_at",
          "waldorf_astoria_towers_grandest_chicago",
          "mandarin_oriental_boston_at_hotels",
          "conrad_shack_shake_new_meyer",
          "property_this_overall_save_is",
          "peninsula_3x_oue_cheep_dismissive",
          "peninsula_3x_oue_cheep_dismissive",
          "san_diego_francisco_located_beach",
          "lol_cooney_genial_russian_plural",
          "lol_cooney_genial_russian_plural",
          "lol_cooney_genial_russian_plural",
          "lol_cooney_genial_russian_plural",
          "de_la_le_un_et",
          "de_la_le_un_et",
          "de_la_le_un_et",
          "de_la_le_un_et"
         ],
         "marker": {
          "color": "black"
         },
         "mode": "markers",
         "showlegend": false,
         "type": "scatter",
         "x": [
          0.7864557782438584,
          0.9255838460694253,
          0.42561834581481073,
          0.6191694671294543,
          0.6904941526063019,
          0.7802228850878111,
          0.8309533950310266,
          0.7118180163805786,
          0.786339737666828,
          0.8467332498809524,
          0.8505206947233813,
          1.027841602463885,
          0.8130880147409081,
          0.8837344150336446,
          0.9408316159979374,
          0.6611664424721411,
          0.7235683472813162,
          0.9164588530875224,
          0.797912998866232,
          0.8366121312983755,
          0.992023557232478,
          1.0335698687724164,
          0.6853181132531982,
          0.7778359193973421,
          0.843372764157776,
          1.225279455676051,
          0.6252391962671625,
          0.8359189938952988,
          0.6371902318899431,
          0.8689769542251516,
          1.1985706738678166,
          1.3750253808311308,
          0.7081953803460064,
          0.723971664631794,
          0.5829596043628738,
          0.73701986555988,
          0.8408497369177229,
          0.9152554562745053,
          0.8128533924340114,
          0.8820009056558241,
          0.8429031148449916,
          0.9493529211209089,
          0.9891102226274702,
          0.9264584602679532,
          1.0082926779710801,
          1.0218715010610653,
          1.1692198958456916,
          1.2239461660938502,
          0.8824675938121602,
          1.3667577441903287,
          1.3953232897359484,
          1.4857917231095867
         ],
         "y": [
          -50,
          -40,
          -80,
          -72.5,
          -130,
          -122.5,
          -150,
          -170,
          -210,
          -202.5,
          -230,
          -211.875,
          -290,
          -282.5,
          -271.25,
          -320,
          -340,
          -326.25,
          -410,
          -437.5,
          -418.75,
          -393.125,
          -470,
          -490,
          -476.25,
          -409.453125,
          -540,
          -543.75,
          -590,
          -580,
          -553.4375,
          -424.35546875,
          -637.5,
          -690,
          -740,
          -732.5,
          -807.5,
          -810.625,
          -840,
          -867.5,
          -917.5,
          -940,
          -921.875,
          -967.5,
          -1017.5,
          -1003.75,
          -964.228515625,
          -862.1142578125,
          -1047.5,
          -919.591064453125,
          -799.1705322265625,
          -711.4602661132812
         ]
        }
       ],
       "layout": {
        "autosize": false,
        "height": 1790,
        "hoverlabel": {
         "bgcolor": "white",
         "font": {
          "family": "Rockwell",
          "size": 16
         }
        },
        "hovermode": "closest",
        "plot_bgcolor": "#ECEFF1",
        "showlegend": false,
        "template": {
         "data": {
          "bar": [
           {
            "error_x": {
             "color": "#2a3f5f"
            },
            "error_y": {
             "color": "#2a3f5f"
            },
            "marker": {
             "line": {
              "color": "white",
              "width": 0.5
             },
             "pattern": {
              "fillmode": "overlay",
              "size": 10,
              "solidity": 0.2
             }
            },
            "type": "bar"
           }
          ],
          "barpolar": [
           {
            "marker": {
             "line": {
              "color": "white",
              "width": 0.5
             },
             "pattern": {
              "fillmode": "overlay",
              "size": 10,
              "solidity": 0.2
             }
            },
            "type": "barpolar"
           }
          ],
          "carpet": [
           {
            "aaxis": {
             "endlinecolor": "#2a3f5f",
             "gridcolor": "#C8D4E3",
             "linecolor": "#C8D4E3",
             "minorgridcolor": "#C8D4E3",
             "startlinecolor": "#2a3f5f"
            },
            "baxis": {
             "endlinecolor": "#2a3f5f",
             "gridcolor": "#C8D4E3",
             "linecolor": "#C8D4E3",
             "minorgridcolor": "#C8D4E3",
             "startlinecolor": "#2a3f5f"
            },
            "type": "carpet"
           }
          ],
          "choropleth": [
           {
            "colorbar": {
             "outlinewidth": 0,
             "ticks": ""
            },
            "type": "choropleth"
           }
          ],
          "contour": [
           {
            "colorbar": {
             "outlinewidth": 0,
             "ticks": ""
            },
            "colorscale": [
             [
              0,
              "#0d0887"
             ],
             [
              0.1111111111111111,
              "#46039f"
             ],
             [
              0.2222222222222222,
              "#7201a8"
             ],
             [
              0.3333333333333333,
              "#9c179e"
             ],
             [
              0.4444444444444444,
              "#bd3786"
             ],
             [
              0.5555555555555556,
              "#d8576b"
             ],
             [
              0.6666666666666666,
              "#ed7953"
             ],
             [
              0.7777777777777778,
              "#fb9f3a"
             ],
             [
              0.8888888888888888,
              "#fdca26"
             ],
             [
              1,
              "#f0f921"
             ]
            ],
            "type": "contour"
           }
          ],
          "contourcarpet": [
           {
            "colorbar": {
             "outlinewidth": 0,
             "ticks": ""
            },
            "type": "contourcarpet"
           }
          ],
          "heatmap": [
           {
            "colorbar": {
             "outlinewidth": 0,
             "ticks": ""
            },
            "colorscale": [
             [
              0,
              "#0d0887"
             ],
             [
              0.1111111111111111,
              "#46039f"
             ],
             [
              0.2222222222222222,
              "#7201a8"
             ],
             [
              0.3333333333333333,
              "#9c179e"
             ],
             [
              0.4444444444444444,
              "#bd3786"
             ],
             [
              0.5555555555555556,
              "#d8576b"
             ],
             [
              0.6666666666666666,
              "#ed7953"
             ],
             [
              0.7777777777777778,
              "#fb9f3a"
             ],
             [
              0.8888888888888888,
              "#fdca26"
             ],
             [
              1,
              "#f0f921"
             ]
            ],
            "type": "heatmap"
           }
          ],
          "heatmapgl": [
           {
            "colorbar": {
             "outlinewidth": 0,
             "ticks": ""
            },
            "colorscale": [
             [
              0,
              "#0d0887"
             ],
             [
              0.1111111111111111,
              "#46039f"
             ],
             [
              0.2222222222222222,
              "#7201a8"
             ],
             [
              0.3333333333333333,
              "#9c179e"
             ],
             [
              0.4444444444444444,
              "#bd3786"
             ],
             [
              0.5555555555555556,
              "#d8576b"
             ],
             [
              0.6666666666666666,
              "#ed7953"
             ],
             [
              0.7777777777777778,
              "#fb9f3a"
             ],
             [
              0.8888888888888888,
              "#fdca26"
             ],
             [
              1,
              "#f0f921"
             ]
            ],
            "type": "heatmapgl"
           }
          ],
          "histogram": [
           {
            "marker": {
             "pattern": {
              "fillmode": "overlay",
              "size": 10,
              "solidity": 0.2
             }
            },
            "type": "histogram"
           }
          ],
          "histogram2d": [
           {
            "colorbar": {
             "outlinewidth": 0,
             "ticks": ""
            },
            "colorscale": [
             [
              0,
              "#0d0887"
             ],
             [
              0.1111111111111111,
              "#46039f"
             ],
             [
              0.2222222222222222,
              "#7201a8"
             ],
             [
              0.3333333333333333,
              "#9c179e"
             ],
             [
              0.4444444444444444,
              "#bd3786"
             ],
             [
              0.5555555555555556,
              "#d8576b"
             ],
             [
              0.6666666666666666,
              "#ed7953"
             ],
             [
              0.7777777777777778,
              "#fb9f3a"
             ],
             [
              0.8888888888888888,
              "#fdca26"
             ],
             [
              1,
              "#f0f921"
             ]
            ],
            "type": "histogram2d"
           }
          ],
          "histogram2dcontour": [
           {
            "colorbar": {
             "outlinewidth": 0,
             "ticks": ""
            },
            "colorscale": [
             [
              0,
              "#0d0887"
             ],
             [
              0.1111111111111111,
              "#46039f"
             ],
             [
              0.2222222222222222,
              "#7201a8"
             ],
             [
              0.3333333333333333,
              "#9c179e"
             ],
             [
              0.4444444444444444,
              "#bd3786"
             ],
             [
              0.5555555555555556,
              "#d8576b"
             ],
             [
              0.6666666666666666,
              "#ed7953"
             ],
             [
              0.7777777777777778,
              "#fb9f3a"
             ],
             [
              0.8888888888888888,
              "#fdca26"
             ],
             [
              1,
              "#f0f921"
             ]
            ],
            "type": "histogram2dcontour"
           }
          ],
          "mesh3d": [
           {
            "colorbar": {
             "outlinewidth": 0,
             "ticks": ""
            },
            "type": "mesh3d"
           }
          ],
          "parcoords": [
           {
            "line": {
             "colorbar": {
              "outlinewidth": 0,
              "ticks": ""
             }
            },
            "type": "parcoords"
           }
          ],
          "pie": [
           {
            "automargin": true,
            "type": "pie"
           }
          ],
          "scatter": [
           {
            "fillpattern": {
             "fillmode": "overlay",
             "size": 10,
             "solidity": 0.2
            },
            "type": "scatter"
           }
          ],
          "scatter3d": [
           {
            "line": {
             "colorbar": {
              "outlinewidth": 0,
              "ticks": ""
             }
            },
            "marker": {
             "colorbar": {
              "outlinewidth": 0,
              "ticks": ""
             }
            },
            "type": "scatter3d"
           }
          ],
          "scattercarpet": [
           {
            "marker": {
             "colorbar": {
              "outlinewidth": 0,
              "ticks": ""
             }
            },
            "type": "scattercarpet"
           }
          ],
          "scattergeo": [
           {
            "marker": {
             "colorbar": {
              "outlinewidth": 0,
              "ticks": ""
             }
            },
            "type": "scattergeo"
           }
          ],
          "scattergl": [
           {
            "marker": {
             "colorbar": {
              "outlinewidth": 0,
              "ticks": ""
             }
            },
            "type": "scattergl"
           }
          ],
          "scattermapbox": [
           {
            "marker": {
             "colorbar": {
              "outlinewidth": 0,
              "ticks": ""
             }
            },
            "type": "scattermapbox"
           }
          ],
          "scatterpolar": [
           {
            "marker": {
             "colorbar": {
              "outlinewidth": 0,
              "ticks": ""
             }
            },
            "type": "scatterpolar"
           }
          ],
          "scatterpolargl": [
           {
            "marker": {
             "colorbar": {
              "outlinewidth": 0,
              "ticks": ""
             }
            },
            "type": "scatterpolargl"
           }
          ],
          "scatterternary": [
           {
            "marker": {
             "colorbar": {
              "outlinewidth": 0,
              "ticks": ""
             }
            },
            "type": "scatterternary"
           }
          ],
          "surface": [
           {
            "colorbar": {
             "outlinewidth": 0,
             "ticks": ""
            },
            "colorscale": [
             [
              0,
              "#0d0887"
             ],
             [
              0.1111111111111111,
              "#46039f"
             ],
             [
              0.2222222222222222,
              "#7201a8"
             ],
             [
              0.3333333333333333,
              "#9c179e"
             ],
             [
              0.4444444444444444,
              "#bd3786"
             ],
             [
              0.5555555555555556,
              "#d8576b"
             ],
             [
              0.6666666666666666,
              "#ed7953"
             ],
             [
              0.7777777777777778,
              "#fb9f3a"
             ],
             [
              0.8888888888888888,
              "#fdca26"
             ],
             [
              1,
              "#f0f921"
             ]
            ],
            "type": "surface"
           }
          ],
          "table": [
           {
            "cells": {
             "fill": {
              "color": "#EBF0F8"
             },
             "line": {
              "color": "white"
             }
            },
            "header": {
             "fill": {
              "color": "#C8D4E3"
             },
             "line": {
              "color": "white"
             }
            },
            "type": "table"
           }
          ]
         },
         "layout": {
          "annotationdefaults": {
           "arrowcolor": "#2a3f5f",
           "arrowhead": 0,
           "arrowwidth": 1
          },
          "autotypenumbers": "strict",
          "coloraxis": {
           "colorbar": {
            "outlinewidth": 0,
            "ticks": ""
           }
          },
          "colorscale": {
           "diverging": [
            [
             0,
             "#8e0152"
            ],
            [
             0.1,
             "#c51b7d"
            ],
            [
             0.2,
             "#de77ae"
            ],
            [
             0.3,
             "#f1b6da"
            ],
            [
             0.4,
             "#fde0ef"
            ],
            [
             0.5,
             "#f7f7f7"
            ],
            [
             0.6,
             "#e6f5d0"
            ],
            [
             0.7,
             "#b8e186"
            ],
            [
             0.8,
             "#7fbc41"
            ],
            [
             0.9,
             "#4d9221"
            ],
            [
             1,
             "#276419"
            ]
           ],
           "sequential": [
            [
             0,
             "#0d0887"
            ],
            [
             0.1111111111111111,
             "#46039f"
            ],
            [
             0.2222222222222222,
             "#7201a8"
            ],
            [
             0.3333333333333333,
             "#9c179e"
            ],
            [
             0.4444444444444444,
             "#bd3786"
            ],
            [
             0.5555555555555556,
             "#d8576b"
            ],
            [
             0.6666666666666666,
             "#ed7953"
            ],
            [
             0.7777777777777778,
             "#fb9f3a"
            ],
            [
             0.8888888888888888,
             "#fdca26"
            ],
            [
             1,
             "#f0f921"
            ]
           ],
           "sequentialminus": [
            [
             0,
             "#0d0887"
            ],
            [
             0.1111111111111111,
             "#46039f"
            ],
            [
             0.2222222222222222,
             "#7201a8"
            ],
            [
             0.3333333333333333,
             "#9c179e"
            ],
            [
             0.4444444444444444,
             "#bd3786"
            ],
            [
             0.5555555555555556,
             "#d8576b"
            ],
            [
             0.6666666666666666,
             "#ed7953"
            ],
            [
             0.7777777777777778,
             "#fb9f3a"
            ],
            [
             0.8888888888888888,
             "#fdca26"
            ],
            [
             1,
             "#f0f921"
            ]
           ]
          },
          "colorway": [
           "#636efa",
           "#EF553B",
           "#00cc96",
           "#ab63fa",
           "#FFA15A",
           "#19d3f3",
           "#FF6692",
           "#B6E880",
           "#FF97FF",
           "#FECB52"
          ],
          "font": {
           "color": "#2a3f5f"
          },
          "geo": {
           "bgcolor": "white",
           "lakecolor": "white",
           "landcolor": "white",
           "showlakes": true,
           "showland": true,
           "subunitcolor": "#C8D4E3"
          },
          "hoverlabel": {
           "align": "left"
          },
          "hovermode": "closest",
          "mapbox": {
           "style": "light"
          },
          "paper_bgcolor": "white",
          "plot_bgcolor": "white",
          "polar": {
           "angularaxis": {
            "gridcolor": "#EBF0F8",
            "linecolor": "#EBF0F8",
            "ticks": ""
           },
           "bgcolor": "white",
           "radialaxis": {
            "gridcolor": "#EBF0F8",
            "linecolor": "#EBF0F8",
            "ticks": ""
           }
          },
          "scene": {
           "xaxis": {
            "backgroundcolor": "white",
            "gridcolor": "#DFE8F3",
            "gridwidth": 2,
            "linecolor": "#EBF0F8",
            "showbackground": true,
            "ticks": "",
            "zerolinecolor": "#EBF0F8"
           },
           "yaxis": {
            "backgroundcolor": "white",
            "gridcolor": "#DFE8F3",
            "gridwidth": 2,
            "linecolor": "#EBF0F8",
            "showbackground": true,
            "ticks": "",
            "zerolinecolor": "#EBF0F8"
           },
           "zaxis": {
            "backgroundcolor": "white",
            "gridcolor": "#DFE8F3",
            "gridwidth": 2,
            "linecolor": "#EBF0F8",
            "showbackground": true,
            "ticks": "",
            "zerolinecolor": "#EBF0F8"
           }
          },
          "shapedefaults": {
           "line": {
            "color": "#2a3f5f"
           }
          },
          "ternary": {
           "aaxis": {
            "gridcolor": "#DFE8F3",
            "linecolor": "#A2B1C6",
            "ticks": ""
           },
           "baxis": {
            "gridcolor": "#DFE8F3",
            "linecolor": "#A2B1C6",
            "ticks": ""
           },
           "bgcolor": "white",
           "caxis": {
            "gridcolor": "#DFE8F3",
            "linecolor": "#A2B1C6",
            "ticks": ""
           }
          },
          "title": {
           "x": 0.05
          },
          "xaxis": {
           "automargin": true,
           "gridcolor": "#EBF0F8",
           "linecolor": "#EBF0F8",
           "ticks": "",
           "title": {
            "standoff": 15
           },
           "zerolinecolor": "#EBF0F8",
           "zerolinewidth": 2
          },
          "yaxis": {
           "automargin": true,
           "gridcolor": "#EBF0F8",
           "linecolor": "#EBF0F8",
           "ticks": "",
           "title": {
            "standoff": 15
           },
           "zerolinecolor": "#EBF0F8",
           "zerolinewidth": 2
          }
         }
        },
        "title": {
         "font": {
          "color": "Black",
          "size": 22
         },
         "text": "<b>Hierarchical Clustering</b>",
         "x": 0.5,
         "xanchor": "center",
         "yanchor": "top"
        },
        "width": 1000,
        "xaxis": {
         "mirror": "allticks",
         "rangemode": "tozero",
         "showgrid": false,
         "showline": true,
         "showticklabels": true,
         "ticks": "outside",
         "type": "linear",
         "zeroline": false
        },
        "yaxis": {
         "mirror": "allticks",
         "range": [
          -1060,
          0
         ],
         "rangemode": "tozero",
         "showgrid": false,
         "showline": true,
         "showticklabels": true,
         "tickmode": "array",
         "ticks": "outside",
         "ticktext": [
          "95_reservations_mentions_re...",
          "38_concierge_helpful_sugges...",
          "14_staff_hotel_friendly",
          "6_staff_friendly_helpful",
          "88_welcoming_smiling_smile",
          "102_name_names_by",
          "86_valet_desk_front",
          "33_desk_front_helpful",
          "98_desk_front_told",
          "66_check_fast_quick",
          "63_early_ready_check",
          "32_bags_bellman_car",
          "68_called_reservation_incid...",
          "39_bill_fixed_phone",
          "57_cribs_stuffed_toy",
          "101_she_standing_health",
          "42_champagne_bottle_chocolate",
          "61_anniversary_celebrate_we...",
          "100_tip_tipping_accept",
          "83_ice_water_cold",
          "79_turn_turndown_down",
          "27_housekeeping_job_clean",
          "94_towels_soft_bath",
          "89_slippers_robes_toiletries",
          "105_issues_minor_few",
          "60_air_conditioning_conditi...",
          "13_noise_quiet_hear",
          "80_smell_odor_smelled",
          "52_elevator_elevators_floor",
          "34_lobby_gorgeous_is",
          "81_dirty_clean_carpets",
          "4_view_floor_views",
          "16_suite_upgraded_king",
          "65_room_nice_was",
          "85_room_spotless_noticed",
          "53_worth_expensive_penny",
          "22_rate_rates_price",
          "59_parking_valet_35",
          "70_ipad_cd_iphone",
          "28_internet_wifi_free",
          "30_coffee_tea_maker",
          "9_breakfast_morning_buffet",
          "24_gym_fitness_workout",
          "7_pool_area_swimming",
          "19_spa_massage_massages",
          "10_bar_drinks_lounge",
          "51_dinner_eat_restaurant",
          "21_food_delicious_tasty",
          "91_restaurant_excellent_ref...",
          "62_stations_restaurants_res...",
          "46_decor_furnishings_style",
          "25_hotel_decor_historic",
          "50_location_great_rooms",
          "20_rooms_are_spacious",
          "87_clean_spacious_modern",
          "12_bed_comfortable_pillows",
          "103_drawers_desk_closet",
          "3_shower_bathroom_tub",
          "67_mirror_tv_bathroom",
          "72_tv_channels_large",
          "29_back_will_return",
          "69_return_will_again",
          "77_here_will_again",
          "37_again_would_here",
          "31_stay_here_overall",
          "104_nights_august_spent",
          "35_stayed_nights_august",
          "97_stayed_days_here",
          "47_hotels_stayed_ve",
          "74_surrey_london_palms",
          "64_star_stars_five",
          "56_star_five_stars",
          "99_service_fs_hotel",
          "15_service_customer_impecca...",
          "82_service_room_poor",
          "40_carlton_ritz_charlotte",
          "41_ritz_at_fabulous",
          "90_hyatt_park_chicago",
          "45_dc_jefferson_washington",
          "5_seasons_four_baltimore",
          "44_chicago_in_best",
          "43_trump_soho_chicago",
          "73_waldorf_astoria_towers",
          "36_boston_harbor_common",
          "48_mandarin_oriental_boston",
          "54_nyc_standards_manhattan",
          "8_nyc_york_new",
          "84_conrad_shack_shake",
          "58_relaxing_atmosphere_rela...",
          "92_la_vibe_confortably",
          "17_hotel_this_recommend",
          "2_experience_say_it",
          "49_property_this_overall",
          "78_highly_recommended_recom...",
          "96_peninsula_3x_oue",
          "0_location_shopping_walk",
          "18_location_hotel_located",
          "71_san_diego_francisco",
          "93_fairmont_olympic_rates",
          "75_seattle_puget_sound",
          "55_00_ten_10",
          "76_grounds_garden_maintained",
          "26_lol_cooney_genial",
          "1_de_et_le",
          "23_el_que_de",
          "11_di_il_la"
         ],
         "tickvals": [
          -5,
          -15,
          -25,
          -35,
          -45,
          -55,
          -65,
          -75,
          -85,
          -95,
          -105,
          -115,
          -125,
          -135,
          -145,
          -155,
          -165,
          -175,
          -185,
          -195,
          -205,
          -215,
          -225,
          -235,
          -245,
          -255,
          -265,
          -275,
          -285,
          -295,
          -305,
          -315,
          -325,
          -335,
          -345,
          -355,
          -365,
          -375,
          -385,
          -395,
          -405,
          -415,
          -425,
          -435,
          -445,
          -455,
          -465,
          -475,
          -485,
          -495,
          -505,
          -515,
          -525,
          -535,
          -545,
          -555,
          -565,
          -575,
          -585,
          -595,
          -605,
          -615,
          -625,
          -635,
          -645,
          -655,
          -665,
          -675,
          -685,
          -695,
          -705,
          -715,
          -725,
          -735,
          -745,
          -755,
          -765,
          -775,
          -785,
          -795,
          -805,
          -815,
          -825,
          -835,
          -845,
          -855,
          -865,
          -875,
          -885,
          -895,
          -905,
          -915,
          -925,
          -935,
          -945,
          -955,
          -965,
          -975,
          -985,
          -995,
          -1005,
          -1015,
          -1025,
          -1035,
          -1045,
          -1055
         ],
         "type": "linear",
         "zeroline": false
        }
       }
      }
     },
     "metadata": {},
     "output_type": "display_data"
    }
   ],
   "source": [
    "from scipy.cluster import hierarchy as sch\n",
    "\n",
    "hierarchical_topics = model.hierarchical_topics(docs)\n",
    "\n",
    "linkage_function = lambda x: sch.linkage(x, 'single', optimal_ordering=True)\n",
    "hierarchical_topics = model.hierarchical_topics(docs, linkage_function=linkage_function)\n",
    "\n",
    "# visulize the topics hierarchy\n",
    "model.visualize_hierarchy(hierarchical_topics=hierarchical_topics)"
   ]
  },
  {
   "cell_type": "code",
   "execution_count": 4,
   "metadata": {},
   "outputs": [
    {
     "name": "stderr",
     "output_type": "stream",
     "text": [
      "100%|██████████| 105/105 [00:00<00:00, 168.73it/s]\n"
     ]
    }
   ],
   "source": [
    "hier_topics = model.hierarchical_topics(docs)\n",
    "\n",
    "hier_topics.to_csv(\"temp_files/hier_topics.csv\")"
   ]
  },
  {
   "cell_type": "code",
   "execution_count": 5,
   "metadata": {},
   "outputs": [
    {
     "name": "stderr",
     "output_type": "stream",
     "text": [
      "100%|██████████| 105/105 [00:00<00:00, 197.98it/s]\n"
     ]
    }
   ],
   "source": [
    "hier_topics = model.hierarchical_topics(docs)\n",
    "\n",
    "expanded_rows = []\n",
    "\n",
    "# Iterate through the DataFrame and expand the arrays\n",
    "for index, row in hier_topics.iterrows():\n",
    "    # array_values = row['Topics'].strip('[]').split(',')\n",
    "    for value in row['Topics']:\n",
    "        expanded_row = row.copy()\n",
    "        expanded_row['Topics'] = value\n",
    "        expanded_rows.append(expanded_row)\n",
    "\n",
    "# Convert the list of rows to a DataFrame\n",
    "expanded_df = pd.DataFrame(expanded_rows)\n",
    "\n",
    "# Save the expanded DataFrame to a new CSV file\n",
    "expanded_df.to_csv('temp_files/expanded_output.csv', index=False)\n"
   ]
  },
  {
   "cell_type": "code",
   "execution_count": 6,
   "metadata": {},
   "outputs": [
    {
     "name": "stderr",
     "output_type": "stream",
     "text": [
      "100%|██████████| 105/105 [00:00<00:00, 195.60it/s]\n"
     ]
    }
   ],
   "source": [
    "hier_topics = model.hierarchical_topics(docs)\n",
    "\n",
    "hier_topics = hier_topics.explode('Topics')\n",
    "\n",
    "# Save the expanded DataFrame to a new CSV file\n",
    "hier_topics.to_csv('temp_files/expanded_output.csv', index=False)\n"
   ]
  },
  {
   "cell_type": "code",
   "execution_count": 7,
   "metadata": {},
   "outputs": [
    {
     "name": "stdout",
     "output_type": "stream",
     "text": [
      ".\n",
      "├─■──lol_cooney_genial_russian_plural ── Topic: 26\n",
      "└─the_and_in_to_is\n",
      "     ├─the_and_in_to_is\n",
      "     │    ├─de_la_le_un_et\n",
      "     │    │    ├─■──di_il_la_che_molto ── Topic: 11\n",
      "     │    │    └─de_la_le_et_que\n",
      "     │    │         ├─■──el_que_de_en_muy ── Topic: 23\n",
      "     │    │         └─■──de_et_le_est_la ── Topic: 1\n",
      "     │    └─the_and_to_is_was\n",
      "     │         ├─■──fairmont_olympic_rates_swish_nasty ── Topic: 93\n",
      "     │         └─the_and_to_is_was\n",
      "     │              ├─the_and_to_is_was\n",
      "     │              │    ├─the_and_to_is_was\n",
      "     │              │    │    ├─the_and_to_is_was\n",
      "     │              │    │    │    ├─■──hyatt_park_chicago_connection_working ── Topic: 90\n",
      "     │              │    │    │    └─the_and_to_is_was\n",
      "     │              │    │    │         ├─the_and_to_is_was\n",
      "     │              │    │    │         │    ├─■──peninsula_3x_oue_cheep_dismissive ── Topic: 96\n",
      "     │              │    │    │         │    └─the_and_to_is_was\n",
      "     │              │    │    │         │         ├─the_and_to_is_was\n",
      "     │              │    │    │         │         │    ├─■──waldorf_astoria_towers_grandest_chicago ── Topic: 73\n",
      "     │              │    │    │         │         │    └─the_and_is_to_was\n",
      "     │              │    │    │         │         │         ├─the_and_to_is_was\n",
      "     │              │    │    │         │         │         │    ├─the_and_to_is_was\n",
      "     │              │    │    │         │         │         │    │    ├─ritz_carlton_at_stayed_charlotte\n",
      "     │              │    │    │         │         │         │    │    │    ├─■──carlton_ritz_charlotte_at_stayed ── Topic: 40\n",
      "     │              │    │    │         │         │         │    │    │    └─■──ritz_at_fabulous_stay_service ── Topic: 41\n",
      "     │              │    │    │         │         │         │    │    └─the_and_to_is_was\n",
      "     │              │    │    │         │         │         │    │         ├─the_and_is_to_was\n",
      "     │              │    │    │         │         │         │    │         │    ├─■──mandarin_oriental_boston_at_hotels ── Topic: 48\n",
      "     │              │    │    │         │         │         │    │         │    └─the_and_is_to_was\n",
      "     │              │    │    │         │         │         │    │         │         ├─the_and_is_to_was\n",
      "     │              │    │    │         │         │         │    │         │         │    ├─the_and_is_to_was\n",
      "     │              │    │    │         │         │         │    │         │         │    │    ├─■──dc_jefferson_washington_fairfax_stay ── Topic: 45\n",
      "     │              │    │    │         │         │         │    │         │         │    │    └─the_and_is_was_to\n",
      "     │              │    │    │         │         │         │    │         │         │    │         ├─the_and_is_was_to\n",
      "     │              │    │    │         │         │         │    │         │         │    │         │    ├─■──san_diego_francisco_located_beach ── Topic: 71\n",
      "     │              │    │    │         │         │         │    │         │         │    │         │    └─the_and_is_was_to\n",
      "     │              │    │    │         │         │         │    │         │         │    │         │         ├─the_and_was_is_to\n",
      "     │              │    │    │         │         │         │    │         │         │    │         │         │    ├─■──spa_massage_massages_use_treatment ── Topic: 19\n",
      "     │              │    │    │         │         │         │    │         │         │    │         │         │    └─the_and_was_is_to\n",
      "     │              │    │    │         │         │         │    │         │         │    │         │         │         ├─■──coffee_tea_maker_nespresso_morning ── Topic: 30\n",
      "     │              │    │    │         │         │         │    │         │         │    │         │         │         └─the_and_is_was_to\n",
      "     │              │    │    │         │         │         │    │         │         │    │         │         │              ├─■──ipad_cd_iphone_bose_player ── Topic: 70\n",
      "     │              │    │    │         │         │         │    │         │         │    │         │         │              └─the_and_is_was_to\n",
      "     │              │    │    │         │         │         │    │         │         │    │         │         │                   ├─the_and_is_was_to\n",
      "     │              │    │    │         │         │         │    │         │         │    │         │         │                   │    ├─the_and_is_was_to\n",
      "     │              │    │    │         │         │         │    │         │         │    │         │         │                   │    │    ├─■──internet_wifi_free_wi_fi ── Topic: 28\n",
      "     │              │    │    │         │         │         │    │         │         │    │         │         │                   │    │    └─the_and_is_was_to\n",
      "     │              │    │    │         │         │         │    │         │         │    │         │         │                   │    │         ├─■──property_this_overall_save_is ── Topic: 49\n",
      "     │              │    │    │         │         │         │    │         │         │    │         │         │                   │    │         └─the_and_was_is_to\n",
      "     │              │    │    │         │         │         │    │         │         │    │         │         │                   │    │              ├─the_and_was_is_to\n",
      "     │              │    │    │         │         │         │    │         │         │    │         │         │                   │    │              │    ├─the_and_is_was_to\n",
      "     │              │    │    │         │         │         │    │         │         │    │         │         │                   │    │              │    │    ├─the_and_is_was_to\n",
      "     │              │    │    │         │         │         │    │         │         │    │         │         │                   │    │              │    │    │    ├─■──conrad_shack_shake_new_meyer ── Topic: 84\n",
      "     │              │    │    │         │         │         │    │         │         │    │         │         │                   │    │              │    │    │    └─the_and_was_is_to\n",
      "     │              │    │    │         │         │         │    │         │         │    │         │         │                   │    │              │    │    │         ├─the_and_is_was_to\n",
      "     │              │    │    │         │         │         │    │         │         │    │         │         │                   │    │              │    │    │         │    ├─■──trump_soho_chicago_returned_at ── Topic: 43\n",
      "     │              │    │    │         │         │         │    │         │         │    │         │         │                   │    │              │    │    │         │    └─the_and_is_was_to\n",
      "     │              │    │    │         │         │         │    │         │         │    │         │         │                   │    │              │    │    │         │         ├─■──lobby_gorgeous_is_small_building ── Topic: 34\n",
      "     │              │    │    │         │         │         │    │         │         │    │         │         │                   │    │              │    │    │         │         └─the_and_was_is_to\n",
      "     │              │    │    │         │         │         │    │         │         │    │         │         │                   │    │              │    │    │         │              ├─room_was_nice_spotless_noticed\n",
      "     │              │    │    │         │         │         │    │         │         │    │         │         │                   │    │              │    │    │         │              │    ├─■──room_nice_was_lovely_spirited ── Topic: 65\n",
      "     │              │    │    │         │         │         │    │         │         │    │         │         │                   │    │              │    │    │         │              │    └─■──room_spotless_noticed_huge_was ── Topic: 85\n",
      "     │              │    │    │         │         │         │    │         │         │    │         │         │                   │    │              │    │    │         │              └─the_and_is_was_to\n",
      "     │              │    │    │         │         │         │    │         │         │    │         │         │                   │    │              │    │    │         │                   ├─the_and_is_was_to\n",
      "     │              │    │    │         │         │         │    │         │         │    │         │         │                   │    │              │    │    │         │                   │    ├─the_and_was_is_to\n",
      "     │              │    │    │         │         │         │    │         │         │    │         │         │                   │    │              │    │    │         │                   │    │    ├─concierge_reservations_helpful_suggestions_us\n",
      "     │              │    │    │         │         │         │    │         │         │    │         │         │                   │    │              │    │    │         │                   │    │    │    ├─■──concierge_helpful_suggestions_reservations_us ── Topic: 38\n",
      "     │              │    │    │         │         │         │    │         │         │    │         │         │                   │    │              │    │    │         │                   │    │    │    └─■──reservations_mentions_reservation_any_concierge ── Topic: 95\n",
      "     │              │    │    │         │         │         │    │         │         │    │         │         │                   │    │              │    │    │         │                   │    │    └─the_and_was_is_to\n",
      "     │              │    │    │         │         │         │    │         │         │    │         │         │                   │    │              │    │    │         │                   │    │         ├─check_bags_bill_call_our\n",
      "     │              │    │    │         │         │         │    │         │         │    │         │         │                   │    │              │    │    │         │                   │    │         │    ├─check_bags_early_ready_bellman\n",
      "     │              │    │    │         │         │         │    │         │         │    │         │         │                   │    │              │    │    │         │                   │    │         │    │    ├─check_early_ready_fast_call\n",
      "     │              │    │    │         │         │         │    │         │         │    │         │         │                   │    │              │    │    │         │                   │    │         │    │    │    ├─■──check_fast_quick_efficient_smooth ── Topic: 66\n",
      "     │              │    │    │         │         │         │    │         │         │    │         │         │                   │    │              │    │    │         │                   │    │         │    │    │    └─■──early_ready_check_call_room ── Topic: 63\n",
      "     │              │    │    │         │         │         │    │         │         │    │         │         │                   │    │              │    │    │         │                   │    │         │    │    └─■──bags_bellman_car_valet_luggage ── Topic: 32\n",
      "     │              │    │    │         │         │         │    │         │         │    │         │         │                   │    │              │    │    │         │                   │    │         │    └─bill_called_me_call_fixed\n",
      "     │              │    │    │         │         │         │    │         │         │    │         │         │                   │    │              │    │    │         │                   │    │         │         ├─■──called_reservation_incident_did_that ── Topic: 68\n",
      "     │              │    │    │         │         │         │    │         │         │    │         │         │                   │    │              │    │    │         │                   │    │         │         └─■──bill_fixed_phone_me_issue ── Topic: 39\n",
      "     │              │    │    │         │         │         │    │         │         │    │         │         │                   │    │              │    │    │         │                   │    │         └─the_and_is_was_of\n",
      "     │              │    │    │         │         │         │    │         │         │    │         │         │                   │    │              │    │    │         │                   │    │              ├─■──drawers_desk_closet_couch_large ── Topic: 103\n",
      "     │              │    │    │         │         │         │    │         │         │    │         │         │                   │    │              │    │    │         │                   │    │              └─the_and_is_was_of\n",
      "     │              │    │    │         │         │         │    │         │         │    │         │         │                   │    │              │    │    │         │                   │    │                   ├─the_and_is_was_we\n",
      "     │              │    │    │         │         │         │    │         │         │    │         │         │                   │    │              │    │    │         │                   │    │                   │    ├─the_and_is_was_of\n",
      "     │              │    │    │         │         │         │    │         │         │    │         │         │                   │    │              │    │    │         │                   │    │                   │    │    ├─breakfast_bar_food_restaurant_drinks\n",
      "     │              │    │    │         │         │         │    │         │         │    │         │         │                   │    │              │    │    │         │                   │    │                   │    │    │    ├─■──breakfast_morning_buffet_breakfasts_included ── Topic: 9\n",
      "     │              │    │    │         │         │         │    │         │         │    │         │         │                   │    │              │    │    │         │                   │    │                   │    │    │    └─bar_food_restaurant_drinks_drink\n",
      "     │              │    │    │         │         │         │    │         │         │    │         │         │                   │    │              │    │    │         │                   │    │                   │    │    │         ├─bar_food_drinks_drink_lounge\n",
      "     │              │    │    │         │         │         │    │         │         │    │         │         │                   │    │              │    │    │         │                   │    │                   │    │    │         │    ├─■──bar_drinks_lounge_drink_cocktails ── Topic: 10\n",
      "     │              │    │    │         │         │         │    │         │         │    │         │         │                   │    │              │    │    │         │                   │    │                   │    │    │         │    └─food_dinner_delicious_restaurant_meal\n",
      "     │              │    │    │         │         │         │    │         │         │    │         │         │                   │    │              │    │    │         │                   │    │                   │    │    │         │         ├─■──dinner_eat_restaurant_closed_ate ── Topic: 51\n",
      "     │              │    │    │         │         │         │    │         │         │    │         │         │                   │    │              │    │    │         │                   │    │                   │    │    │         │         └─■──food_delicious_tasty_meal_was ── Topic: 21\n",
      "     │              │    │    │         │         │         │    │         │         │    │         │         │                   │    │              │    │    │         │                   │    │                   │    │    │         └─■──restaurant_excellent_refurbishing_michelle_sample ── Topic: 91\n",
      "     │              │    │    │         │         │         │    │         │         │    │         │         │                   │    │              │    │    │         │                   │    │                   │    │    └─the_and_is_staff_to\n",
      "     │              │    │    │         │         │         │    │         │         │    │         │         │                   │    │              │    │    │         │                   │    │                   │    │         ├─■──stations_restaurants_restaurant_dining_entertainment ── Topic: 62\n",
      "     │              │    │    │         │         │         │    │         │         │    │         │         │                   │    │              │    │    │         │                   │    │                   │    │         └─the_and_is_staff_to\n",
      "     │              │    │    │         │         │         │    │         │         │    │         │         │                   │    │              │    │    │         │                   │    │                   │    │              ├─■──chicago_in_best_stay_choice ── Topic: 44\n",
      "     │              │    │    │         │         │         │    │         │         │    │         │         │                   │    │              │    │    │         │                   │    │                   │    │              └─the_and_is_staff_was\n",
      "     │              │    │    │         │         │         │    │         │         │    │         │         │                   │    │              │    │    │         │                   │    │                   │    │                   ├─view_suite_floor_noise_room\n",
      "     │              │    │    │         │         │         │    │         │         │    │         │         │                   │    │              │    │    │         │                   │    │                   │    │                   │    ├─■──noise_quiet_hear_loud_street ── Topic: 13\n",
      "     │              │    │    │         │         │         │    │         │         │    │         │         │                   │    │              │    │    │         │                   │    │                   │    │                   │    └─view_suite_floor_room_upgraded\n",
      "     │              │    │    │         │         │         │    │         │         │    │         │         │                   │    │              │    │    │         │                   │    │                   │    │                   │         ├─■──view_floor_views_room_harbor ── Topic: 4\n",
      "     │              │    │    │         │         │         │    │         │         │    │         │         │                   │    │              │    │    │         │                   │    │                   │    │                   │         └─■──suite_upgraded_king_deluxe_upgrade ── Topic: 16\n",
      "     │              │    │    │         │         │         │    │         │         │    │         │         │                   │    │              │    │    │         │                   │    │                   │    │                   └─staff_is_and_the_location\n",
      "     │              │    │    │         │         │         │    │         │         │    │         │         │                   │    │              │    │    │         │                   │    │                   │    │                        ├─staff_is_and_the_location\n",
      "     │              │    │    │         │         │         │    │         │         │    │         │         │                   │    │              │    │    │         │                   │    │                   │    │                        │    ├─staff_is_and_the_location\n",
      "     │              │    │    │         │         │         │    │         │         │    │         │         │                   │    │              │    │    │         │                   │    │                   │    │                        │    │    ├─bathroom_shower_tub_bath_tv\n",
      "     │              │    │    │         │         │         │    │         │         │    │         │         │                   │    │              │    │    │         │                   │    │                   │    │                        │    │    │    ├─tv_mirror_bathroom_channels_screen\n",
      "     │              │    │    │         │         │         │    │         │         │    │         │         │                   │    │              │    │    │         │                   │    │                   │    │                        │    │    │    │    ├─■──tv_channels_large_hd_screen ── Topic: 72\n",
      "     │              │    │    │         │         │         │    │         │         │    │         │         │                   │    │              │    │    │         │                   │    │                   │    │                        │    │    │    │    └─■──mirror_tv_bathroom_built_mirrors ── Topic: 67\n",
      "     │              │    │    │         │         │         │    │         │         │    │         │         │                   │    │              │    │    │         │                   │    │                   │    │                        │    │    │    └─■──shower_bathroom_tub_bath_toilet ── Topic: 3\n",
      "     │              │    │    │         │         │         │    │         │         │    │         │         │                   │    │              │    │    │         │                   │    │                   │    │                        │    │    └─staff_location_is_hotel_and\n",
      "     │              │    │    │         │         │         │    │         │         │    │         │         │                   │    │              │    │    │         │                   │    │                   │    │                        │    │         ├─staff_location_is_hotel_and\n",
      "     │              │    │    │         │         │         │    │         │         │    │         │         │                   │    │              │    │    │         │                   │    │                   │    │                        │    │         │    ├─■──bed_comfortable_pillows_beds_linens ── Topic: 12\n",
      "     │              │    │    │         │         │         │    │         │         │    │         │         │                   │    │              │    │    │         │                   │    │                   │    │                        │    │         │    └─staff_location_is_hotel_this\n",
      "     │              │    │    │         │         │         │    │         │         │    │         │         │                   │    │              │    │    │         │                   │    │                   │    │                        │    │         │         ├─■──rate_rates_price_night_pay ── Topic: 22\n",
      "     │              │    │    │         │         │         │    │         │         │    │         │         │                   │    │              │    │    │         │                   │    │                   │    │                        │    │         │         └─staff_location_is_hotel_this\n",
      "     │              │    │    │         │         │         │    │         │         │    │         │         │                   │    │              │    │    │         │                   │    │                   │    │                        │    │         │              ├─■──surrey_london_palms_royal_stayed ── Topic: 74\n",
      "     │              │    │    │         │         │         │    │         │         │    │         │         │                   │    │              │    │    │         │                   │    │                   │    │                        │    │         │              └─staff_location_is_hotel_this\n",
      "     │              │    │    │         │         │         │    │         │         │    │         │         │                   │    │              │    │    │         │                   │    │                   │    │                        │    │         │                   ├─staff_location_is_hotel_this\n",
      "     │              │    │    │         │         │         │    │         │         │    │         │         │                   │    │              │    │    │         │                   │    │                   │    │                        │    │         │                   │    ├─■──anniversary_celebrate_wedding_our_husband ── Topic: 61\n",
      "     │              │    │    │         │         │         │    │         │         │    │         │         │                   │    │              │    │    │         │                   │    │                   │    │                        │    │         │                   │    └─staff_location_is_hotel_this\n",
      "     │              │    │    │         │         │         │    │         │         │    │         │         │                   │    │              │    │    │         │                   │    │                   │    │                        │    │         │                   │         ├─staff_location_is_hotel_this\n",
      "     │              │    │    │         │         │         │    │         │         │    │         │         │                   │    │              │    │    │         │                   │    │                   │    │                        │    │         │                   │         │    ├─staff_friendly_hotel_this_stay\n",
      "     │              │    │    │         │         │         │    │         │         │    │         │         │                   │    │              │    │    │         │                   │    │                   │    │                        │    │         │                   │         │    │    ├─decor_hotel_modern_furnishings_beautiful\n",
      "     │              │    │    │         │         │         │    │         │         │    │         │         │                   │    │              │    │    │         │                   │    │                   │    │                        │    │         │                   │         │    │    │    ├─■──decor_furnishings_style_modern_elegance ── Topic: 46\n",
      "     │              │    │    │         │         │         │    │         │         │    │         │         │                   │    │              │    │    │         │                   │    │                   │    │                        │    │         │                   │         │    │    │    └─■──hotel_decor_historic_renovated_modern ── Topic: 25\n",
      "     │              │    │    │         │         │         │    │         │         │    │         │         │                   │    │              │    │    │         │                   │    │                   │    │                        │    │         │                   │         │    │    └─staff_friendly_stay_here_service\n",
      "     │              │    │    │         │         │         │    │         │         │    │         │         │                   │    │              │    │    │         │                   │    │                   │    │                        │    │         │                   │         │    │         ├─staff_friendly_service_desk_helpful\n",
      "     │              │    │    │         │         │         │    │         │         │    │         │         │                   │    │              │    │    │         │                   │    │                   │    │                        │    │         │                   │         │    │         │    ├─service_customer_impeccable_excellent_was\n",
      "     │              │    │    │         │         │         │    │         │         │    │         │         │                   │    │              │    │    │         │                   │    │                   │    │                        │    │         │                   │         │    │         │    │    ├─■──service_fs_hotel_this_potentential ── Topic: 99\n",
      "     │              │    │    │         │         │         │    │         │         │    │         │         │                   │    │              │    │    │         │                   │    │                   │    │                        │    │         │                   │         │    │         │    │    └─service_customer_impeccable_friendly_was\n",
      "     │              │    │    │         │         │         │    │         │         │    │         │         │                   │    │              │    │    │         │                   │    │                   │    │                        │    │         │                   │         │    │         │    │         ├─■──service_customer_impeccable_friendly_exceptional ── Topic: 15\n",
      "     │              │    │    │         │         │         │    │         │         │    │         │         │                   │    │              │    │    │         │                   │    │                   │    │                        │    │         │                   │         │    │         │    │         └─■──service_room_poor_znd_timeliness ── Topic: 82\n",
      "     │              │    │    │         │         │         │    │         │         │    │         │         │                   │    │              │    │    │         │                   │    │                   │    │                        │    │         │                   │         │    │         │    └─staff_friendly_desk_front_helpful\n",
      "     │              │    │    │         │         │         │    │         │         │    │         │         │                   │    │              │    │    │         │                   │    │                   │    │                        │    │         │                   │         │    │         │         ├─■──stay_here_overall_wonderful_enjoyed ── Topic: 31\n",
      "     │              │    │    │         │         │         │    │         │         │    │         │         │                   │    │              │    │    │         │                   │    │                   │    │                        │    │         │                   │         │    │         │         └─staff_friendly_desk_front_helpful\n",
      "     │              │    │    │         │         │         │    │         │         │    │         │         │                   │    │              │    │    │         │                   │    │                   │    │                        │    │         │                   │         │    │         │              ├─again_will_would_back_definitely\n",
      "     │              │    │    │         │         │         │    │         │         │    │         │         │                   │    │              │    │    │         │                   │    │                   │    │                        │    │         │                   │         │    │         │              │    ├─again_would_will_back_definitely\n",
      "     │              │    │    │         │         │         │    │         │         │    │         │         │                   │    │              │    │    │         │                   │    │                   │    │                        │    │         │                   │         │    │         │              │    │    ├─again_back_will_definitely_here\n",
      "     │              │    │    │         │         │         │    │         │         │    │         │         │                   │    │              │    │    │         │                   │    │                   │    │                        │    │         │                   │         │    │         │              │    │    │    ├─again_here_would_stay_definitely\n",
      "     │              │    │    │         │         │         │    │         │         │    │         │         │                   │    │              │    │    │         │                   │    │                   │    │                        │    │         │                   │         │    │         │              │    │    │    │    ├─■──here_will_again_staying_stay ── Topic: 77\n",
      "     │              │    │    │         │         │         │    │         │         │    │         │         │                   │    │              │    │    │         │                   │    │                   │    │                        │    │         │                   │         │    │         │              │    │    │    │    └─■──again_would_here_stay_definitely ── Topic: 37\n",
      "     │              │    │    │         │         │         │    │         │         │    │         │         │                   │    │              │    │    │         │                   │    │                   │    │                        │    │         │                   │         │    │         │              │    │    │    └─back_will_return_definitely_be\n",
      "     │              │    │    │         │         │         │    │         │         │    │         │         │                   │    │              │    │    │         │                   │    │                   │    │                        │    │         │                   │         │    │         │              │    │    │         ├─■──return_will_again_back_would ── Topic: 69\n",
      "     │              │    │    │         │         │         │    │         │         │    │         │         │                   │    │              │    │    │         │                   │    │                   │    │                        │    │         │                   │         │    │         │              │    │    │         └─■──back_will_return_be_definitely ── Topic: 29\n",
      "     │              │    │    │         │         │         │    │         │         │    │         │         │                   │    │              │    │    │         │                   │    │                   │    │                        │    │         │                   │         │    │         │              │    │    └─■──hotel_this_recommend_highly_would ── Topic: 17\n",
      "     │              │    │    │         │         │         │    │         │         │    │         │         │                   │    │              │    │    │         │                   │    │                   │    │                        │    │         │                   │         │    │         │              │    └─■──experience_say_it_overall_expectations ── Topic: 2\n",
      "     │              │    │    │         │         │         │    │         │         │    │         │         │                   │    │              │    │    │         │                   │    │                   │    │                        │    │         │                   │         │    │         │              └─staff_friendly_desk_front_helpful\n",
      "     │              │    │    │         │         │         │    │         │         │    │         │         │                   │    │              │    │    │         │                   │    │                   │    │                        │    │         │                   │         │    │         │                   ├─staff_friendly_helpful_very_professional\n",
      "     │              │    │    │         │         │         │    │         │         │    │         │         │                   │    │              │    │    │         │                   │    │                   │    │                        │    │         │                   │         │    │         │                   │    ├─■──staff_friendly_helpful_very_professional ── Topic: 6\n",
      "     │              │    │    │         │         │         │    │         │         │    │         │         │                   │    │              │    │    │         │                   │    │                   │    │                        │    │         │                   │         │    │         │                   │    └─■──staff_hotel_friendly_helpful_guest ── Topic: 14\n",
      "     │              │    │    │         │         │         │    │         │         │    │         │         │                   │    │              │    │    │         │                   │    │                   │    │                        │    │         │                   │         │    │         │                   └─desk_front_staff_helpful_valet\n",
      "     │              │    │    │         │         │         │    │         │         │    │         │         │                   │    │              │    │    │         │                   │    │                   │    │                        │    │         │                   │         │    │         │                        ├─■──valet_desk_front_staff_everyone ── Topic: 86\n",
      "     │              │    │    │         │         │         │    │         │         │    │         │         │                   │    │              │    │    │         │                   │    │                   │    │                        │    │         │                   │         │    │         │                        └─desk_front_helpful_staff_professional\n",
      "     │              │    │    │         │         │         │    │         │         │    │         │         │                   │    │              │    │    │         │                   │    │                   │    │                        │    │         │                   │         │    │         │                             ├─■──desk_front_helpful_professional_staff ── Topic: 33\n",
      "     │              │    │    │         │         │         │    │         │         │    │         │         │                   │    │              │    │    │         │                   │    │                   │    │                        │    │         │                   │         │    │         │                             └─■──desk_front_told_said_agent ── Topic: 98\n",
      "     │              │    │    │         │         │         │    │         │         │    │         │         │                   │    │              │    │    │         │                   │    │                   │    │                        │    │         │                   │         │    │         └─stayed_nights_august_here_hotels\n",
      "     │              │    │    │         │         │         │    │         │         │    │         │         │                   │    │              │    │    │         │                   │    │                   │    │                        │    │         │                   │         │    │              ├─■──hotels_stayed_ve_best_nicest ── Topic: 47\n",
      "     │              │    │    │         │         │         │    │         │         │    │         │         │                   │    │              │    │    │         │                   │    │                   │    │                        │    │         │                   │         │    │              └─stayed_nights_august_here_wife\n",
      "     │              │    │    │         │         │         │    │         │         │    │         │         │                   │    │              │    │    │         │                   │    │                   │    │                        │    │         │                   │         │    │                   ├─■──stayed_days_here_adams_hay ── Topic: 97\n",
      "     │              │    │    │         │         │         │    │         │         │    │         │         │                   │    │              │    │    │         │                   │    │                   │    │                        │    │         │                   │         │    │                   └─nights_stayed_august_here_wife\n",
      "     │              │    │    │         │         │         │    │         │         │    │         │         │                   │    │              │    │    │         │                   │    │                   │    │                        │    │         │                   │         │    │                        ├─■──stayed_nights_august_here_wife ── Topic: 35\n",
      "     │              │    │    │         │         │         │    │         │         │    │         │         │                   │    │              │    │    │         │                   │    │                   │    │                        │    │         │                   │         │    │                        └─■──nights_august_spent_during_this ── Topic: 104\n",
      "     │              │    │    │         │         │         │    │         │         │    │         │         │                   │    │              │    │    │         │                   │    │                   │    │                        │    │         │                   │         │    └─location_nyc_is_great_shopping\n",
      "     │              │    │    │         │         │         │    │         │         │    │         │         │                   │    │              │    │    │         │                   │    │                   │    │                        │    │         │                   │         │         ├─nyc_york_rooms_new_are\n",
      "     │              │    │    │         │         │         │    │         │         │    │         │         │                   │    │              │    │    │         │                   │    │                   │    │                        │    │         │                   │         │         │    ├─nyc_york_new_rooms_ny\n",
      "     │              │    │    │         │         │         │    │         │         │    │         │         │                   │    │              │    │    │         │                   │    │                   │    │                        │    │         │                   │         │         │    │    ├─nyc_york_new_rooms_ny\n",
      "     │              │    │    │         │         │         │    │         │         │    │         │         │                   │    │              │    │    │         │                   │    │                   │    │                        │    │         │                   │         │         │    │    │    ├─nyc_york_new_ny_chatwal\n",
      "     │              │    │    │         │         │         │    │         │         │    │         │         │                   │    │              │    │    │         │                   │    │                   │    │                        │    │         │                   │         │         │    │    │    │    ├─■──nyc_york_new_ny_chatwal ── Topic: 8\n",
      "     │              │    │    │         │         │         │    │         │         │    │         │         │                   │    │              │    │    │         │                   │    │                   │    │                        │    │         │                   │         │         │    │    │    │    └─■──nyc_standards_manhattan_rooms_spacious ── Topic: 54\n",
      "     │              │    │    │         │         │         │    │         │         │    │         │         │                   │    │              │    │    │         │                   │    │                   │    │                        │    │         │                   │         │         │    │    │    └─■──rooms_are_spacious_comfortable_decorated ── Topic: 20\n",
      "     │              │    │    │         │         │         │    │         │         │    │         │         │                   │    │              │    │    │         │                   │    │                   │    │                        │    │         │                   │         │         │    │    └─■──clean_spacious_modern_room_rooms ── Topic: 87\n",
      "     │              │    │    │         │         │         │    │         │         │    │         │         │                   │    │              │    │    │         │                   │    │                   │    │                        │    │         │                   │         │         │    └─■──location_great_rooms_service_amenities ── Topic: 50\n",
      "     │              │    │    │         │         │         │    │         │         │    │         │         │                   │    │              │    │    │         │                   │    │                   │    │                        │    │         │                   │         │         └─location_shopping_walking_walk_restaurants\n",
      "     │              │    │    │         │         │         │    │         │         │    │         │         │                   │    │              │    │    │         │                   │    │                   │    │                        │    │         │                   │         │              ├─■──location_shopping_walk_walking_distance ── Topic: 0\n",
      "     │              │    │    │         │         │         │    │         │         │    │         │         │                   │    │              │    │    │         │                   │    │                   │    │                        │    │         │                   │         │              └─■──location_hotel_located_is_square ── Topic: 18\n",
      "     │              │    │    │         │         │         │    │         │         │    │         │         │                   │    │              │    │    │         │                   │    │                   │    │                        │    │         │                   │         └─■──welcoming_smiling_smile_greeted_friendly ── Topic: 88\n",
      "     │              │    │    │         │         │         │    │         │         │    │         │         │                   │    │              │    │    │         │                   │    │                   │    │                        │    │         │                   └─■──highly_recommended_recommend_agno_spelling ── Topic: 78\n",
      "     │              │    │    │         │         │         │    │         │         │    │         │         │                   │    │              │    │    │         │                   │    │                   │    │                        │    │         └─■──champagne_bottle_chocolate_anniversary_strawberries ── Topic: 42\n",
      "     │              │    │    │         │         │         │    │         │         │    │         │         │                   │    │              │    │    │         │                   │    │                   │    │                        │    └─■──parking_valet_35_seems_fee ── Topic: 59\n",
      "     │              │    │    │         │         │         │    │         │         │    │         │         │                   │    │              │    │    │         │                   │    │                   │    │                        └─■──worth_expensive_penny_cheap_every ── Topic: 53\n",
      "     │              │    │    │         │         │         │    │         │         │    │         │         │                   │    │              │    │    │         │                   │    │                   │    └─■──seasons_four_baltimore_regis_at ── Topic: 5\n",
      "     │              │    │    │         │         │         │    │         │         │    │         │         │                   │    │              │    │    │         │                   │    │                   └─star_five_stars_this_hotel\n",
      "     │              │    │    │         │         │         │    │         │         │    │         │         │                   │    │              │    │    │         │                   │    │                        ├─■──star_five_stars_hotel_hotels ── Topic: 56\n",
      "     │              │    │    │         │         │         │    │         │         │    │         │         │                   │    │              │    │    │         │                   │    │                        └─■──star_stars_five_category_every ── Topic: 64\n",
      "     │              │    │    │         │         │         │    │         │         │    │         │         │                   │    │              │    │    │         │                   │    └─pool_gym_fitness_area_swimming\n",
      "     │              │    │    │         │         │         │    │         │         │    │         │         │                   │    │              │    │    │         │                   │         ├─■──pool_area_swimming_small_gym ── Topic: 7\n",
      "     │              │    │    │         │         │         │    │         │         │    │         │         │                   │    │              │    │    │         │                   │         └─■──gym_fitness_workout_facility_center ── Topic: 24\n",
      "     │              │    │    │         │         │         │    │         │         │    │         │         │                   │    │              │    │    │         │                   └─■──turn_turndown_down_service_night ── Topic: 79\n",
      "     │              │    │    │         │         │         │    │         │         │    │         │         │                   │    │              │    │    │         └─■──air_conditioning_conditioner_temperature_properly ── Topic: 60\n",
      "     │              │    │    │         │         │         │    │         │         │    │         │         │                   │    │              │    │    └─■──elevator_elevators_floor_key_5th ── Topic: 52\n",
      "     │              │    │    │         │         │         │    │         │         │    │         │         │                   │    │              │    └─■──housekeeping_job_clean_turn_returned ── Topic: 27\n",
      "     │              │    │    │         │         │         │    │         │         │    │         │         │                   │    │              └─■──name_names_by_knew_everyone ── Topic: 102\n",
      "     │              │    │    │         │         │         │    │         │         │    │         │         │                   │    └─■──relaxing_atmosphere_relaxed_relax_day ── Topic: 58\n",
      "     │              │    │    │         │         │         │    │         │         │    │         │         │                   └─■──la_vibe_confortably_specialy_biltmore ── Topic: 92\n",
      "     │              │    │    │         │         │         │    │         │         │    │         │         └─■──boston_harbor_common_our_seasons ── Topic: 36\n",
      "     │              │    │    │         │         │         │    │         │         │    │         └─■──cribs_stuffed_toy_her_crib ── Topic: 57\n",
      "     │              │    │    │         │         │         │    │         │         │    └─■──dirty_clean_carpets_dusty_room ── Topic: 81\n",
      "     │              │    │    │         │         │         │    │         │         └─■──smell_odor_smelled_mildew_tissue ── Topic: 80\n",
      "     │              │    │    │         │         │         │    │         └─■──she_standing_health_her_asked ── Topic: 101\n",
      "     │              │    │    │         │         │         │    └─■──tip_tipping_accept_gratuity_tips ── Topic: 100\n",
      "     │              │    │    │         │         │         └─■──seattle_puget_sound_fairmont_downtown ── Topic: 75\n",
      "     │              │    │    │         │         └─■──ice_water_cold_pack_hour ── Topic: 83\n",
      "     │              │    │    │         └─■──issues_minor_few_complain_complaints ── Topic: 105\n",
      "     │              │    │    └─■──towels_soft_bath_towel_cold ── Topic: 94\n",
      "     │              │    └─■──slippers_robes_toiletries_sized_robe ── Topic: 89\n",
      "     │              └─■──grounds_garden_maintained_beautiful_are ── Topic: 76\n",
      "     └─■──00_ten_10_ouch_95 ── Topic: 55\n",
      "\n"
     ]
    }
   ],
   "source": [
    "tree = model.get_topic_tree(hierarchical_topics)\n",
    "print(tree)"
   ]
  },
  {
   "cell_type": "code",
   "execution_count": 8,
   "metadata": {},
   "outputs": [
    {
     "name": "stdout",
     "output_type": "stream",
     "text": [
      "File saved to: temp_files/hier_topics_with_categories.csv\n"
     ]
    }
   ],
   "source": [
    "def categorize_topics(file_path, output_path):\n",
    "\n",
    "    df = pd.read_csv(file_path)\n",
    "    \n",
    "    child_ids = set(df['Child_Left_ID']).union(set(df['Child_Right_ID']))\n",
    "    parent_ids = set(df['Parent_ID'])\n",
    "    \n",
    "    criteria = df.apply(lambda row: row['Child_Left_ID'] not in parent_ids and \n",
    "                                   row['Child_Right_ID'] not in parent_ids, axis=1)\n",
    "    \n",
    "    df['category'] = criteria.apply(lambda x: 'yes' if x else 'no')\n",
    "    \n",
    "    df.to_csv(output_path, index=False)\n",
    "    print(f\"File saved to: {output_path}\")\n",
    "\n",
    "# Replace with your file paths\n",
    "categorize_topics(\"temp_files/hier_topics.csv\", \"temp_files/hier_topics_with_categories.csv\")\n"
   ]
  },
  {
   "cell_type": "code",
   "execution_count": 10,
   "metadata": {},
   "outputs": [
    {
     "name": "stdout",
     "output_type": "stream",
     "text": [
      "File saved to: temp_files/hier_topics_with_categories2.csv\n"
     ]
    }
   ],
   "source": [
    "import pandas as pd\n",
    "\n",
    "def categorize_topics_with_lvl2(file_path, output_path):\n",
    "\n",
    "    df = pd.read_csv(file_path)\n",
    "    \n",
    "    child_ids = set(df['Child_Left_ID']).union(set(df['Child_Right_ID']))\n",
    "    parent_ids = set(df['Parent_ID'])\n",
    "    \n",
    "    df['category_lvl1'] = df.apply(lambda row: row['Child_Left_ID'] not in parent_ids and \n",
    "                                           row['Child_Right_ID'] not in parent_ids, axis=1)\n",
    "    \n",
    "    df['category_lvl1'] = df['category_lvl1'].apply(lambda x: 'yes' if x else 'no')\n",
    "    \n",
    "    df['category_lvl2'] = 'no'\n",
    "    \n",
    "    for index, row in df[df['category_lvl1'] == 'yes'].iterrows():\n",
    "        parent_id = row['Parent_ID']\n",
    "        if ((df['Child_Left_ID'] == parent_id) | (df['Child_Right_ID'] == parent_id)).any():\n",
    "            df.at[index, 'category_lvl2'] = 'yes'\n",
    "    \n",
    "    df.to_csv(output_path, index=False)\n",
    "    print(f\"File saved to: {output_path}\")\n",
    "\n",
    "# Replace with your file paths\n",
    "categorize_topics_with_lvl2('temp_files/hier_topics.csv', 'temp_files/hier_topics_with_categories2.csv')\n"
   ]
  },
  {
   "cell_type": "code",
   "execution_count": 11,
   "metadata": {},
   "outputs": [
    {
     "name": "stdout",
     "output_type": "stream",
     "text": [
      "File saved to: temp_files/hier_topics_with_categories3.csv\n"
     ]
    }
   ],
   "source": [
    "import pandas as pd\n",
    "\n",
    "def categorize_topics_with_lvl3(file_path, output_path):\n",
    "\n",
    "    df = pd.read_csv(file_path)\n",
    "    \n",
    "    child_ids = set(df['Child_Left_ID']).union(set(df['Child_Right_ID']))\n",
    "    parent_ids = set(df['Parent_ID'])\n",
    "    \n",
    "    df['category_lvl1'] = df.apply(lambda row: row['Child_Left_ID'] not in parent_ids and \n",
    "                                           row['Child_Right_ID'] not in parent_ids, axis=1)\n",
    "    df['category_lvl1'] = df['category_lvl1'].apply(lambda x: 'yes' if x else 'no')\n",
    "    \n",
    "    df['category_lvl2'] = 'no'\n",
    "    df['category_lvl3'] = 'no'\n",
    "    \n",
    "    for index, row in df[df['category_lvl1'] == 'yes'].iterrows():\n",
    "        parent_id = row['Parent_ID']\n",
    "        if ((df['Child_Left_ID'] == parent_id) | (df['Child_Right_ID'] == parent_id)).any():\n",
    "            df.at[index, 'category_lvl2'] = 'yes'\n",
    "    \n",
    "    for index, row in df[df['category_lvl2'] == 'yes'].iterrows():\n",
    "        parent_id = row['Parent_ID']\n",
    "        if ((df['Child_Left_ID'] == parent_id) | (df['Child_Right_ID'] == parent_id)).any():\n",
    "            df.at[index, 'category_lvl3'] = 'yes'\n",
    "    \n",
    "    df.to_csv(output_path, index=False)\n",
    "    print(f\"File saved to: {output_path}\")\n",
    "\n",
    "# Replace with your file paths\n",
    "categorize_topics_with_lvl3('temp_files/hier_topics.csv', 'temp_files/hier_topics_with_categories3.csv')"
   ]
  },
  {
   "cell_type": "code",
   "execution_count": null,
   "metadata": {},
   "outputs": [],
   "source": [
    "import pandas as pd\n",
    "\n",
    "def categorize_topics_with_lvl3(file_path, output_path):\n",
    "    # Load the CSV file\n",
    "    df = pd.read_csv(file_path)\n",
    "    \n",
    "    # Get all unique Child_Left_ID and Child_Right_ID values\n",
    "    child_ids = set(df['Child_Left_ID']).union(set(df['Child_Right_ID']))\n",
    "    parent_ids = set(df['Parent_ID'])\n",
    "    \n",
    "    # Step 1: Identify rows for 'category'\n",
    "    df['category'] = df.apply(lambda row: row['Child_Left_ID'] not in parent_ids and \n",
    "                                           row['Child_Right_ID'] not in parent_ids, axis=1)\n",
    "    df['category'] = df['category'].apply(lambda x: 'yes' if x else 'no')\n",
    "    \n",
    "    # Step 2: Initialize 'category_lvl2' and 'category_lvl3' columns with 'no'\n",
    "    df['category_lvl2'] = 'no'\n",
    "    df['category_lvl3'] = 'no'\n",
    "    \n",
    "    # Step 3: Process 'category_lvl2'\n",
    "    category_rows = df[df['category'] == 'yes']\n",
    "    for index, row in category_rows.iterrows():\n",
    "        parent_id = row['Parent_ID']\n",
    "        # Find rows where this parent ID is a Child_Left_ID or Child_Right_ID\n",
    "        matching_rows = df[(df['Child_Left_ID'] == parent_id) | (df['Child_Right_ID'] == parent_id)]\n",
    "        df.loc[matching_rows.index, 'category_lvl2'] = 'yes'\n",
    "    \n",
    "    # Step 4: Process 'category_lvl3'\n",
    "    category_lvl2_rows = df[df['category_lvl2'] == 'yes']\n",
    "    for index, row in category_lvl2_rows.iterrows():\n",
    "        parent_id = row['Parent_ID']\n",
    "        # Find rows where this parent ID is a Child_Left_ID or Child_Right_ID\n",
    "        matching_rows = df[(df['Child_Left_ID'] == parent_id) | (df['Child_Right_ID'] == parent_id)]\n",
    "        df.loc[matching_rows.index, 'category_lvl3'] = 'yes'\n",
    "    \n",
    "    # Save the updated dataframe to a new CSV file\n",
    "    df.to_csv(output_path, index=False)\n",
    "    print(f\"File saved to: {output_path}\")\n",
    "\n",
    "# Example usage:\n",
    "# Replace 'input.csv' and 'output.csv' with your file paths\n",
    "categorize_topics_with_lvl3('temp_files/hier_topics.csv', 'temp_files/hier_topics_with_categories3.csv')\n"
   ]
  }
 ],
 "metadata": {
  "kernelspec": {
   "display_name": "Python 3",
   "language": "python",
   "name": "python3"
  },
  "language_info": {
   "codemirror_mode": {
    "name": "ipython",
    "version": 3
   },
   "file_extension": ".py",
   "mimetype": "text/x-python",
   "name": "python",
   "nbconvert_exporter": "python",
   "pygments_lexer": "ipython3",
   "version": "3.10.13"
  }
 },
 "nbformat": 4,
 "nbformat_minor": 2
}
